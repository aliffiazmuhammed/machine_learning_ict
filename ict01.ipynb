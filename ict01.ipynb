{
  "nbformat": 4,
  "nbformat_minor": 0,
  "metadata": {
    "colab": {
      "provenance": [],
      "authorship_tag": "ABX9TyMsAZbh8eNZbl+nzwtbm+1a",
      "include_colab_link": true
    },
    "kernelspec": {
      "name": "python3",
      "display_name": "Python 3"
    },
    "language_info": {
      "name": "python"
    }
  },
  "cells": [
    {
      "cell_type": "markdown",
      "metadata": {
        "id": "view-in-github",
        "colab_type": "text"
      },
      "source": [
        "<a href=\"https://colab.research.google.com/github/aliffiazmuhammed/machine_learning_ict/blob/main/ict01.ipynb\" target=\"_parent\"><img src=\"https://colab.research.google.com/assets/colab-badge.svg\" alt=\"Open In Colab\"/></a>"
      ]
    },
    {
      "cell_type": "code",
      "execution_count": null,
      "metadata": {
        "colab": {
          "base_uri": "https://localhost:8080/"
        },
        "id": "CfeiMnAWmcZX",
        "outputId": "9d91de30-6d49-4aa7-bbfe-e8bb661c2e73"
      },
      "outputs": [
        {
          "output_type": "stream",
          "name": "stdout",
          "text": [
            "---calculator program---\n",
            "enter the opration4/2\n",
            "result: 2.0\n"
          ]
        }
      ],
      "source": [
        "class calculator:\n",
        "  def add(self,a,b):\n",
        "    return a+b\n",
        "  def sub(self,a,b):\n",
        "    return a-b\n",
        "  def mul(self,a,b):\n",
        "    return a*b\n",
        "  def div(self,a,b):\n",
        "    if b != 0:\n",
        "        return a / b\n",
        "    else:\n",
        "        return \"Cannot divide by zero\"\n",
        "\n",
        "calc = calculator()\n",
        "print(\"---calculator program---\")\n",
        "\n",
        "op = input(\"enter the opration\")\n",
        "a = op[1]\n",
        "\n",
        "if a==\"+\":\n",
        "  x=calc.add(int(op[0]),int(op[2]))\n",
        "  print(\"result: \"+str(x))\n",
        "elif a==\"-\":\n",
        "  x=calc.sub(int(op[0]),int(op[2]))\n",
        "  print(\"result: \"+str(x))\n",
        "elif a==\"*\":\n",
        "  x=calc.mul(int(op[0]),int(op[2]))\n",
        "  print(\"result: \"+str(x))\n",
        "elif a==\"/\":\n",
        "  x=calc.div(int(op[0]),int(op[2]))\n",
        "  print(\"result: \"+str(x))"
      ]
    },
    {
      "cell_type": "code",
      "source": [
        "class calculator:\n",
        "  def operation(self,a):\n",
        "    return eval(a)\n",
        "\n",
        "\n",
        "calc = calculator()\n",
        "print(\"---calculator program---\")\n",
        "\n",
        "op = input(\"enter the opration\")\n",
        "\n",
        "\n",
        "x=calc.operation(op)\n",
        "print(\"result: \"+str(x))\n"
      ],
      "metadata": {
        "colab": {
          "base_uri": "https://localhost:8080/"
        },
        "id": "iyKy4JUG2DE8",
        "outputId": "66e7a0f8-83ef-4823-e300-adad63aea094"
      },
      "execution_count": null,
      "outputs": [
        {
          "output_type": "stream",
          "name": "stdout",
          "text": [
            "---calculator program---\n",
            "enter the opration2+2*4\n",
            "result: 10\n"
          ]
        }
      ]
    },
    {
      "cell_type": "code",
      "source": [
        "!pip install simplecalculator\n",
        "\n",
        "import simplecalculator\n",
        "\n",
        "\n",
        "c = simplecalculator()\n",
        "\n",
        "a = input('enter the operation')\n",
        "\n",
        "c.run(a)\n",
        "\n",
        "print(c.log)"
      ],
      "metadata": {
        "colab": {
          "base_uri": "https://localhost:8080/",
          "height": 401
        },
        "id": "1oOurOs4AP6u",
        "outputId": "5a191ab1-34cb-4ae4-aeae-626c2953453a"
      },
      "execution_count": 30,
      "outputs": [
        {
          "output_type": "stream",
          "name": "stdout",
          "text": [
            "Requirement already satisfied: simplecalculator in /usr/local/lib/python3.10/dist-packages (0.0.4)\n"
          ]
        },
        {
          "output_type": "error",
          "ename": "ModuleNotFoundError",
          "evalue": "No module named 'simplecalculator'",
          "traceback": [
            "\u001b[0;31m---------------------------------------------------------------------------\u001b[0m",
            "\u001b[0;31mModuleNotFoundError\u001b[0m                       Traceback (most recent call last)",
            "\u001b[0;32m<ipython-input-30-9ba2f9637f95>\u001b[0m in \u001b[0;36m<cell line: 3>\u001b[0;34m()\u001b[0m\n\u001b[1;32m      1\u001b[0m \u001b[0mget_ipython\u001b[0m\u001b[0;34m(\u001b[0m\u001b[0;34m)\u001b[0m\u001b[0;34m.\u001b[0m\u001b[0msystem\u001b[0m\u001b[0;34m(\u001b[0m\u001b[0;34m'pip install simplecalculator'\u001b[0m\u001b[0;34m)\u001b[0m\u001b[0;34m\u001b[0m\u001b[0;34m\u001b[0m\u001b[0m\n\u001b[1;32m      2\u001b[0m \u001b[0;34m\u001b[0m\u001b[0m\n\u001b[0;32m----> 3\u001b[0;31m \u001b[0;32mimport\u001b[0m \u001b[0msimplecalculator\u001b[0m\u001b[0;34m\u001b[0m\u001b[0;34m\u001b[0m\u001b[0m\n\u001b[0m\u001b[1;32m      4\u001b[0m \u001b[0;34m\u001b[0m\u001b[0m\n\u001b[1;32m      5\u001b[0m \u001b[0;34m\u001b[0m\u001b[0m\n",
            "\u001b[0;31mModuleNotFoundError\u001b[0m: No module named 'simplecalculator'",
            "",
            "\u001b[0;31m---------------------------------------------------------------------------\u001b[0;32m\nNOTE: If your import is failing due to a missing package, you can\nmanually install dependencies using either !pip or !apt.\n\nTo view examples of installing some common dependencies, click the\n\"Open Examples\" button below.\n\u001b[0;31m---------------------------------------------------------------------------\u001b[0m\n"
          ],
          "errorDetails": {
            "actions": [
              {
                "action": "open_url",
                "actionText": "Open Examples",
                "url": "/notebooks/snippets/importing_libraries.ipynb"
              }
            ]
          }
        }
      ]
    },
    {
      "cell_type": "code",
      "source": [
        "from calculator.simple import SimpleCalculator\n",
        "\n",
        "\n",
        "c = SimpleCalculator()\n",
        "\n",
        "a = input('enter the operation')\n",
        "\n",
        "c.run(a)\n",
        "\n",
        "print(c.log[-1])\n"
      ],
      "metadata": {
        "colab": {
          "base_uri": "https://localhost:8080/"
        },
        "id": "99o9rmeMBVW7",
        "outputId": "ba01c6d2-44a8-41f1-8269-fe19ce1d5624"
      },
      "execution_count": 45,
      "outputs": [
        {
          "output_type": "stream",
          "name": "stdout",
          "text": [
            "enter the operation1 + 1\n",
            "result: 2.0\n"
          ]
        }
      ]
    }
  ]
}