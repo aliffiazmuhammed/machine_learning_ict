{
  "cells": [
    {
      "cell_type": "markdown",
      "metadata": {
        "id": "view-in-github",
        "colab_type": "text"
      },
      "source": [
        "<a href=\"https://colab.research.google.com/github/aliffiazmuhammed/machine_learning_ict/blob/main/IMDB_Movie_Reviews_Sentiment_Analysis.ipynb\" target=\"_parent\"><img src=\"https://colab.research.google.com/assets/colab-badge.svg\" alt=\"Open In Colab\"/></a>"
      ]
    },
    {
      "cell_type": "markdown",
      "id": "2dcfe90a",
      "metadata": {
        "id": "2dcfe90a"
      },
      "source": [
        "<br><br><span style='font-size:50px'>Reading and Discovering the Dataset</span>"
      ]
    },
    {
      "cell_type": "markdown",
      "id": "35fc9c0e",
      "metadata": {
        "id": "35fc9c0e"
      },
      "source": [
        "<p>Dataset Source: <a href='https://www.kaggle.com/datasets/columbine/imdb-dataset-sentiment-analysis-in-csv-format</a></p>"
      ]
    },
    {
      "cell_type": "code",
      "execution_count": 270,
      "id": "56636a97",
      "metadata": {
        "id": "56636a97"
      },
      "outputs": [],
      "source": [
        "import pandas as pd"
      ]
    },
    {
      "cell_type": "code",
      "execution_count": 271,
      "id": "afbd1d11",
      "metadata": {
        "id": "afbd1d11"
      },
      "outputs": [],
      "source": [
        "data = pd.read_csv('/content/Test.csv')"
      ]
    },
    {
      "cell_type": "code",
      "execution_count": 272,
      "id": "ed0e4ed4",
      "metadata": {
        "colab": {
          "base_uri": "https://localhost:8080/",
          "height": 676
        },
        "id": "ed0e4ed4",
        "outputId": "2161661b-5b7d-4278-b908-8e8b8b68a31d"
      },
      "outputs": [
        {
          "output_type": "execute_result",
          "data": {
            "text/plain": [
              "                                                 text  label\n",
              "0   I always wrote this series off as being a comp...      0\n",
              "1   1st watched 12/7/2002 - 3 out of 10(Dir-Steve ...      0\n",
              "2   This movie was so poorly written and directed ...      0\n",
              "3   The most interesting thing about Miryang (Secr...      1\n",
              "4   when i first read about \"berlin am meer\" i did...      0\n",
              "5   I saw this film on September 1st, 2005 in Indi...      1\n",
              "6   I saw a screening of this movie last night. I ...      0\n",
              "7   William Hurt may not be an American matinee id...      1\n",
              "8   IT IS A PIECE OF CRAP! not funny at all. durin...      0\n",
              "9   I'M BOUT IT(1997)<br /><br />Developed & publi...      0\n",
              "10  I had a recent spectator experience with The P...      0\n",
              "11  I really enjoyed the detail that went into the...      1\n",
              "12  Didn't the writer for this movie see the other...      0\n",
              "13  This movie was really bad. First they didn't e...      0\n",
              "14  I think I watched a highly edited version beca...      0\n",
              "15  Uwe Boll has done the impossible: create a gam...      0\n",
              "16  I felt asleep, watching it!!! (and I had ticke...      0\n",
              "17  Brass pictures (movies is not a fitting word f...      0\n",
              "18  My interest was raised as I was flipping throu...      1\n",
              "19  Pity the Monkees. People always accused them o...      1"
            ],
            "text/html": [
              "\n",
              "  <div id=\"df-c754cae2-a8a8-43e1-af47-6b1e4000b70b\" class=\"colab-df-container\">\n",
              "    <div>\n",
              "<style scoped>\n",
              "    .dataframe tbody tr th:only-of-type {\n",
              "        vertical-align: middle;\n",
              "    }\n",
              "\n",
              "    .dataframe tbody tr th {\n",
              "        vertical-align: top;\n",
              "    }\n",
              "\n",
              "    .dataframe thead th {\n",
              "        text-align: right;\n",
              "    }\n",
              "</style>\n",
              "<table border=\"1\" class=\"dataframe\">\n",
              "  <thead>\n",
              "    <tr style=\"text-align: right;\">\n",
              "      <th></th>\n",
              "      <th>text</th>\n",
              "      <th>label</th>\n",
              "    </tr>\n",
              "  </thead>\n",
              "  <tbody>\n",
              "    <tr>\n",
              "      <th>0</th>\n",
              "      <td>I always wrote this series off as being a comp...</td>\n",
              "      <td>0</td>\n",
              "    </tr>\n",
              "    <tr>\n",
              "      <th>1</th>\n",
              "      <td>1st watched 12/7/2002 - 3 out of 10(Dir-Steve ...</td>\n",
              "      <td>0</td>\n",
              "    </tr>\n",
              "    <tr>\n",
              "      <th>2</th>\n",
              "      <td>This movie was so poorly written and directed ...</td>\n",
              "      <td>0</td>\n",
              "    </tr>\n",
              "    <tr>\n",
              "      <th>3</th>\n",
              "      <td>The most interesting thing about Miryang (Secr...</td>\n",
              "      <td>1</td>\n",
              "    </tr>\n",
              "    <tr>\n",
              "      <th>4</th>\n",
              "      <td>when i first read about \"berlin am meer\" i did...</td>\n",
              "      <td>0</td>\n",
              "    </tr>\n",
              "    <tr>\n",
              "      <th>5</th>\n",
              "      <td>I saw this film on September 1st, 2005 in Indi...</td>\n",
              "      <td>1</td>\n",
              "    </tr>\n",
              "    <tr>\n",
              "      <th>6</th>\n",
              "      <td>I saw a screening of this movie last night. I ...</td>\n",
              "      <td>0</td>\n",
              "    </tr>\n",
              "    <tr>\n",
              "      <th>7</th>\n",
              "      <td>William Hurt may not be an American matinee id...</td>\n",
              "      <td>1</td>\n",
              "    </tr>\n",
              "    <tr>\n",
              "      <th>8</th>\n",
              "      <td>IT IS A PIECE OF CRAP! not funny at all. durin...</td>\n",
              "      <td>0</td>\n",
              "    </tr>\n",
              "    <tr>\n",
              "      <th>9</th>\n",
              "      <td>I'M BOUT IT(1997)&lt;br /&gt;&lt;br /&gt;Developed &amp; publi...</td>\n",
              "      <td>0</td>\n",
              "    </tr>\n",
              "    <tr>\n",
              "      <th>10</th>\n",
              "      <td>I had a recent spectator experience with The P...</td>\n",
              "      <td>0</td>\n",
              "    </tr>\n",
              "    <tr>\n",
              "      <th>11</th>\n",
              "      <td>I really enjoyed the detail that went into the...</td>\n",
              "      <td>1</td>\n",
              "    </tr>\n",
              "    <tr>\n",
              "      <th>12</th>\n",
              "      <td>Didn't the writer for this movie see the other...</td>\n",
              "      <td>0</td>\n",
              "    </tr>\n",
              "    <tr>\n",
              "      <th>13</th>\n",
              "      <td>This movie was really bad. First they didn't e...</td>\n",
              "      <td>0</td>\n",
              "    </tr>\n",
              "    <tr>\n",
              "      <th>14</th>\n",
              "      <td>I think I watched a highly edited version beca...</td>\n",
              "      <td>0</td>\n",
              "    </tr>\n",
              "    <tr>\n",
              "      <th>15</th>\n",
              "      <td>Uwe Boll has done the impossible: create a gam...</td>\n",
              "      <td>0</td>\n",
              "    </tr>\n",
              "    <tr>\n",
              "      <th>16</th>\n",
              "      <td>I felt asleep, watching it!!! (and I had ticke...</td>\n",
              "      <td>0</td>\n",
              "    </tr>\n",
              "    <tr>\n",
              "      <th>17</th>\n",
              "      <td>Brass pictures (movies is not a fitting word f...</td>\n",
              "      <td>0</td>\n",
              "    </tr>\n",
              "    <tr>\n",
              "      <th>18</th>\n",
              "      <td>My interest was raised as I was flipping throu...</td>\n",
              "      <td>1</td>\n",
              "    </tr>\n",
              "    <tr>\n",
              "      <th>19</th>\n",
              "      <td>Pity the Monkees. People always accused them o...</td>\n",
              "      <td>1</td>\n",
              "    </tr>\n",
              "  </tbody>\n",
              "</table>\n",
              "</div>\n",
              "    <div class=\"colab-df-buttons\">\n",
              "\n",
              "  <div class=\"colab-df-container\">\n",
              "    <button class=\"colab-df-convert\" onclick=\"convertToInteractive('df-c754cae2-a8a8-43e1-af47-6b1e4000b70b')\"\n",
              "            title=\"Convert this dataframe to an interactive table.\"\n",
              "            style=\"display:none;\">\n",
              "\n",
              "  <svg xmlns=\"http://www.w3.org/2000/svg\" height=\"24px\" viewBox=\"0 -960 960 960\">\n",
              "    <path d=\"M120-120v-720h720v720H120Zm60-500h600v-160H180v160Zm220 220h160v-160H400v160Zm0 220h160v-160H400v160ZM180-400h160v-160H180v160Zm440 0h160v-160H620v160ZM180-180h160v-160H180v160Zm440 0h160v-160H620v160Z\"/>\n",
              "  </svg>\n",
              "    </button>\n",
              "\n",
              "  <style>\n",
              "    .colab-df-container {\n",
              "      display:flex;\n",
              "      gap: 12px;\n",
              "    }\n",
              "\n",
              "    .colab-df-convert {\n",
              "      background-color: #E8F0FE;\n",
              "      border: none;\n",
              "      border-radius: 50%;\n",
              "      cursor: pointer;\n",
              "      display: none;\n",
              "      fill: #1967D2;\n",
              "      height: 32px;\n",
              "      padding: 0 0 0 0;\n",
              "      width: 32px;\n",
              "    }\n",
              "\n",
              "    .colab-df-convert:hover {\n",
              "      background-color: #E2EBFA;\n",
              "      box-shadow: 0px 1px 2px rgba(60, 64, 67, 0.3), 0px 1px 3px 1px rgba(60, 64, 67, 0.15);\n",
              "      fill: #174EA6;\n",
              "    }\n",
              "\n",
              "    .colab-df-buttons div {\n",
              "      margin-bottom: 4px;\n",
              "    }\n",
              "\n",
              "    [theme=dark] .colab-df-convert {\n",
              "      background-color: #3B4455;\n",
              "      fill: #D2E3FC;\n",
              "    }\n",
              "\n",
              "    [theme=dark] .colab-df-convert:hover {\n",
              "      background-color: #434B5C;\n",
              "      box-shadow: 0px 1px 3px 1px rgba(0, 0, 0, 0.15);\n",
              "      filter: drop-shadow(0px 1px 2px rgba(0, 0, 0, 0.3));\n",
              "      fill: #FFFFFF;\n",
              "    }\n",
              "  </style>\n",
              "\n",
              "    <script>\n",
              "      const buttonEl =\n",
              "        document.querySelector('#df-c754cae2-a8a8-43e1-af47-6b1e4000b70b button.colab-df-convert');\n",
              "      buttonEl.style.display =\n",
              "        google.colab.kernel.accessAllowed ? 'block' : 'none';\n",
              "\n",
              "      async function convertToInteractive(key) {\n",
              "        const element = document.querySelector('#df-c754cae2-a8a8-43e1-af47-6b1e4000b70b');\n",
              "        const dataTable =\n",
              "          await google.colab.kernel.invokeFunction('convertToInteractive',\n",
              "                                                    [key], {});\n",
              "        if (!dataTable) return;\n",
              "\n",
              "        const docLinkHtml = 'Like what you see? Visit the ' +\n",
              "          '<a target=\"_blank\" href=https://colab.research.google.com/notebooks/data_table.ipynb>data table notebook</a>'\n",
              "          + ' to learn more about interactive tables.';\n",
              "        element.innerHTML = '';\n",
              "        dataTable['output_type'] = 'display_data';\n",
              "        await google.colab.output.renderOutput(dataTable, element);\n",
              "        const docLink = document.createElement('div');\n",
              "        docLink.innerHTML = docLinkHtml;\n",
              "        element.appendChild(docLink);\n",
              "      }\n",
              "    </script>\n",
              "  </div>\n",
              "\n",
              "\n",
              "<div id=\"df-76f9a854-96b2-42ca-9023-62472fa754fd\">\n",
              "  <button class=\"colab-df-quickchart\" onclick=\"quickchart('df-76f9a854-96b2-42ca-9023-62472fa754fd')\"\n",
              "            title=\"Suggest charts\"\n",
              "            style=\"display:none;\">\n",
              "\n",
              "<svg xmlns=\"http://www.w3.org/2000/svg\" height=\"24px\"viewBox=\"0 0 24 24\"\n",
              "     width=\"24px\">\n",
              "    <g>\n",
              "        <path d=\"M19 3H5c-1.1 0-2 .9-2 2v14c0 1.1.9 2 2 2h14c1.1 0 2-.9 2-2V5c0-1.1-.9-2-2-2zM9 17H7v-7h2v7zm4 0h-2V7h2v10zm4 0h-2v-4h2v4z\"/>\n",
              "    </g>\n",
              "</svg>\n",
              "  </button>\n",
              "\n",
              "<style>\n",
              "  .colab-df-quickchart {\n",
              "      --bg-color: #E8F0FE;\n",
              "      --fill-color: #1967D2;\n",
              "      --hover-bg-color: #E2EBFA;\n",
              "      --hover-fill-color: #174EA6;\n",
              "      --disabled-fill-color: #AAA;\n",
              "      --disabled-bg-color: #DDD;\n",
              "  }\n",
              "\n",
              "  [theme=dark] .colab-df-quickchart {\n",
              "      --bg-color: #3B4455;\n",
              "      --fill-color: #D2E3FC;\n",
              "      --hover-bg-color: #434B5C;\n",
              "      --hover-fill-color: #FFFFFF;\n",
              "      --disabled-bg-color: #3B4455;\n",
              "      --disabled-fill-color: #666;\n",
              "  }\n",
              "\n",
              "  .colab-df-quickchart {\n",
              "    background-color: var(--bg-color);\n",
              "    border: none;\n",
              "    border-radius: 50%;\n",
              "    cursor: pointer;\n",
              "    display: none;\n",
              "    fill: var(--fill-color);\n",
              "    height: 32px;\n",
              "    padding: 0;\n",
              "    width: 32px;\n",
              "  }\n",
              "\n",
              "  .colab-df-quickchart:hover {\n",
              "    background-color: var(--hover-bg-color);\n",
              "    box-shadow: 0 1px 2px rgba(60, 64, 67, 0.3), 0 1px 3px 1px rgba(60, 64, 67, 0.15);\n",
              "    fill: var(--button-hover-fill-color);\n",
              "  }\n",
              "\n",
              "  .colab-df-quickchart-complete:disabled,\n",
              "  .colab-df-quickchart-complete:disabled:hover {\n",
              "    background-color: var(--disabled-bg-color);\n",
              "    fill: var(--disabled-fill-color);\n",
              "    box-shadow: none;\n",
              "  }\n",
              "\n",
              "  .colab-df-spinner {\n",
              "    border: 2px solid var(--fill-color);\n",
              "    border-color: transparent;\n",
              "    border-bottom-color: var(--fill-color);\n",
              "    animation:\n",
              "      spin 1s steps(1) infinite;\n",
              "  }\n",
              "\n",
              "  @keyframes spin {\n",
              "    0% {\n",
              "      border-color: transparent;\n",
              "      border-bottom-color: var(--fill-color);\n",
              "      border-left-color: var(--fill-color);\n",
              "    }\n",
              "    20% {\n",
              "      border-color: transparent;\n",
              "      border-left-color: var(--fill-color);\n",
              "      border-top-color: var(--fill-color);\n",
              "    }\n",
              "    30% {\n",
              "      border-color: transparent;\n",
              "      border-left-color: var(--fill-color);\n",
              "      border-top-color: var(--fill-color);\n",
              "      border-right-color: var(--fill-color);\n",
              "    }\n",
              "    40% {\n",
              "      border-color: transparent;\n",
              "      border-right-color: var(--fill-color);\n",
              "      border-top-color: var(--fill-color);\n",
              "    }\n",
              "    60% {\n",
              "      border-color: transparent;\n",
              "      border-right-color: var(--fill-color);\n",
              "    }\n",
              "    80% {\n",
              "      border-color: transparent;\n",
              "      border-right-color: var(--fill-color);\n",
              "      border-bottom-color: var(--fill-color);\n",
              "    }\n",
              "    90% {\n",
              "      border-color: transparent;\n",
              "      border-bottom-color: var(--fill-color);\n",
              "    }\n",
              "  }\n",
              "</style>\n",
              "\n",
              "  <script>\n",
              "    async function quickchart(key) {\n",
              "      const quickchartButtonEl =\n",
              "        document.querySelector('#' + key + ' button');\n",
              "      quickchartButtonEl.disabled = true;  // To prevent multiple clicks.\n",
              "      quickchartButtonEl.classList.add('colab-df-spinner');\n",
              "      try {\n",
              "        const charts = await google.colab.kernel.invokeFunction(\n",
              "            'suggestCharts', [key], {});\n",
              "      } catch (error) {\n",
              "        console.error('Error during call to suggestCharts:', error);\n",
              "      }\n",
              "      quickchartButtonEl.classList.remove('colab-df-spinner');\n",
              "      quickchartButtonEl.classList.add('colab-df-quickchart-complete');\n",
              "    }\n",
              "    (() => {\n",
              "      let quickchartButtonEl =\n",
              "        document.querySelector('#df-76f9a854-96b2-42ca-9023-62472fa754fd button');\n",
              "      quickchartButtonEl.style.display =\n",
              "        google.colab.kernel.accessAllowed ? 'block' : 'none';\n",
              "    })();\n",
              "  </script>\n",
              "</div>\n",
              "\n",
              "    </div>\n",
              "  </div>\n"
            ],
            "application/vnd.google.colaboratory.intrinsic+json": {
              "type": "dataframe",
              "variable_name": "data",
              "summary": "{\n  \"name\": \"data\",\n  \"rows\": 5000,\n  \"fields\": [\n    {\n      \"column\": \"text\",\n      \"properties\": {\n        \"dtype\": \"string\",\n        \"num_unique_values\": 4995,\n        \"samples\": [\n          \"I'm the sort of person who went down to the local library and read books on Babbage's difference engine whilst my schoolmates were playing football etc.. So, if there is any such thing as a target audience for this film, then I guess I'd probably be included in that.<br /><br />Maybe I just need to watch it again. A previous reviewer mentioned not to watch this film whilst being tired. Maybe that was my mistake.<br /><br />I tried my best to enjoy this film, and there are aspects of it that I do like, but overall I found it amateurish and quite plodding.<br /><br />Being somewhat of a self confessed computer nerd, I just can't help but pick up on the exact time frame when the movie was actually made, and how the employed graphics reflect that time (i.e. 1997). Having played games of the era c.f. \\\"Mind Grind\\\" to cite one example, this film cannot escape that 16-bit colour low res multimedia explosion of that time. Now thankfully this has somewhat lessened in more recent years in the gaming world at least, in favour of actual game play.<br /><br />Having to resort to watching this movie via a German FTA satellite channel (as I don't think it's ever been aired on UK FTA TV, well not recently anyway), I was mildly amused to see the end credits note Gottdog (God dog) had 4 people working on it's design. Maybe it's mean spirited of me to be amused by this, given that ten years have elapsed since the movie was made, nevertheless the end result makes movie graphics from the eighties look good by comparison.<br /><br />But, as for the main story, I agree that the format isn't the best idea. Like others I agree that Ada deserves a film without the sci-fi angle, and a more straightforward biographical approach would perhaps be better suited to covering the life story of this remarkable lady.<br /><br />There are fundamental mistakes that undermine my enjoyment of this movie. First of all the underlying idea that somehow lost real-world information from the past can be accurately reconstructed through some sort of extrapolation via software based intelligent agents, seems somehow ludicrous.<br /><br />Also, the theme running through the movie that a computing device can indeed predict the mechanics of all things through the course of time (e.g. the winds) is now known not to be the case.<br /><br />OK, so the Victorians may have held this view, but the 20th century works of G\\u00f6del proving that no mathematical system can be complete, Turing's works on the limits of computability, not to mention chaos theory and quantum mechanics, have all completely undermined these ideas, which seem central to how the modern day researcher's software is supposed to work.<br /><br />Finally, the clicking of the mouse in the air to mean \\\"programming\\\" is also just plain wrong, as previously mentioned.<br /><br />This film maybe could have been OK, but at least some technical and scientific consultation would have given the film some much needed credit in the believability stakes.<br /><br />I won't forget the film though, as like \\\"Pi\\\", it is clearly a unique work, but with too many fatal mistakes for me to truly enjoy it, 3/10 from me.\",\n          \"I have two good things to say about this film: the scenery is beautiful and Peter Falk gives a good performance (considering what he had to work with in terms of dialog and direction). However, that said, I found this film extremely tiresome. Watching paint dry would have been more entertaining. It seemed much longer than 97 minutes. Beginning with opening sequence, where everyone is talking over each other and Paul Reiser is repeating everything that's said to him on the phone, the movie is annoying. The film is filled with clich\\u00e9s and shtick, not to mention endless incidents of audible flatulence by Falk. Also, the director seems to have had difficulty deciding whether to aim for laughs or tears. There are some sequences that are touching, but they're all played for laughs. If schmaltzy, sentimental, and \\\"cute\\\" appeal to you, you'll love it. But if you were hoping for something with more substance, see a different movie.\",\n          \"Strained and humorless (especially in light of its rather dubious psychology), but well-paced and comfortably lurid, this genteel body count movie highlights the unusually hypnotic presence of Angharad Rees as a young woman periodically possessed by Jack the Ripper, thus allowing for some nasty gore effects amidst the Edwardian propriety. It's all pretty standard stuff for Hammer, but is handled with a good deal of visual elan, even if the central relationship, between psychoanalyst Porter and Rees, drives the narrative without ever being satisfactorily explained.\"\n        ],\n        \"semantic_type\": \"\",\n        \"description\": \"\"\n      }\n    },\n    {\n      \"column\": \"label\",\n      \"properties\": {\n        \"dtype\": \"number\",\n        \"std\": 0,\n        \"min\": 0,\n        \"max\": 1,\n        \"num_unique_values\": 2,\n        \"samples\": [\n          1,\n          0\n        ],\n        \"semantic_type\": \"\",\n        \"description\": \"\"\n      }\n    }\n  ]\n}"
            }
          },
          "metadata": {},
          "execution_count": 272
        }
      ],
      "source": [
        "data.head(20)"
      ]
    },
    {
      "cell_type": "code",
      "execution_count": 273,
      "id": "f7d5d257",
      "metadata": {
        "colab": {
          "base_uri": "https://localhost:8080/",
          "height": 363
        },
        "id": "f7d5d257",
        "outputId": "8d0e8fbb-53bd-4a9e-d83f-b0b41ce2e181"
      },
      "outputs": [
        {
          "output_type": "execute_result",
          "data": {
            "text/plain": [
              "                                                   text  label\n",
              "54    One of those Thank-God-I-don't-live-there docu...      0\n",
              "1935  Playmania is extremely boring. This is the bas...      0\n",
              "4979  I saw this movie in the middle of the night, w...      0\n",
              "2847  Okay, to be fair this movie did have an intere...      0\n",
              "4426  If your a child of the 80's and have not seen ...      1\n",
              "2887  Well - when the cameo appearance of Jason Mill...      0\n",
              "1338  Karen goes into a Japanese house as a substitu...      1\n",
              "4421  The tighter the drama, the better the film of ...      1\n",
              "4583  Christopher Guest need not worry, his supreme ...      0\n",
              "2000  The first feature-length adventure of Jim Hens...      1"
            ],
            "text/html": [
              "\n",
              "  <div id=\"df-a45523bd-fab8-463c-b4d1-94ba4b5c4ce7\" class=\"colab-df-container\">\n",
              "    <div>\n",
              "<style scoped>\n",
              "    .dataframe tbody tr th:only-of-type {\n",
              "        vertical-align: middle;\n",
              "    }\n",
              "\n",
              "    .dataframe tbody tr th {\n",
              "        vertical-align: top;\n",
              "    }\n",
              "\n",
              "    .dataframe thead th {\n",
              "        text-align: right;\n",
              "    }\n",
              "</style>\n",
              "<table border=\"1\" class=\"dataframe\">\n",
              "  <thead>\n",
              "    <tr style=\"text-align: right;\">\n",
              "      <th></th>\n",
              "      <th>text</th>\n",
              "      <th>label</th>\n",
              "    </tr>\n",
              "  </thead>\n",
              "  <tbody>\n",
              "    <tr>\n",
              "      <th>54</th>\n",
              "      <td>One of those Thank-God-I-don't-live-there docu...</td>\n",
              "      <td>0</td>\n",
              "    </tr>\n",
              "    <tr>\n",
              "      <th>1935</th>\n",
              "      <td>Playmania is extremely boring. This is the bas...</td>\n",
              "      <td>0</td>\n",
              "    </tr>\n",
              "    <tr>\n",
              "      <th>4979</th>\n",
              "      <td>I saw this movie in the middle of the night, w...</td>\n",
              "      <td>0</td>\n",
              "    </tr>\n",
              "    <tr>\n",
              "      <th>2847</th>\n",
              "      <td>Okay, to be fair this movie did have an intere...</td>\n",
              "      <td>0</td>\n",
              "    </tr>\n",
              "    <tr>\n",
              "      <th>4426</th>\n",
              "      <td>If your a child of the 80's and have not seen ...</td>\n",
              "      <td>1</td>\n",
              "    </tr>\n",
              "    <tr>\n",
              "      <th>2887</th>\n",
              "      <td>Well - when the cameo appearance of Jason Mill...</td>\n",
              "      <td>0</td>\n",
              "    </tr>\n",
              "    <tr>\n",
              "      <th>1338</th>\n",
              "      <td>Karen goes into a Japanese house as a substitu...</td>\n",
              "      <td>1</td>\n",
              "    </tr>\n",
              "    <tr>\n",
              "      <th>4421</th>\n",
              "      <td>The tighter the drama, the better the film of ...</td>\n",
              "      <td>1</td>\n",
              "    </tr>\n",
              "    <tr>\n",
              "      <th>4583</th>\n",
              "      <td>Christopher Guest need not worry, his supreme ...</td>\n",
              "      <td>0</td>\n",
              "    </tr>\n",
              "    <tr>\n",
              "      <th>2000</th>\n",
              "      <td>The first feature-length adventure of Jim Hens...</td>\n",
              "      <td>1</td>\n",
              "    </tr>\n",
              "  </tbody>\n",
              "</table>\n",
              "</div>\n",
              "    <div class=\"colab-df-buttons\">\n",
              "\n",
              "  <div class=\"colab-df-container\">\n",
              "    <button class=\"colab-df-convert\" onclick=\"convertToInteractive('df-a45523bd-fab8-463c-b4d1-94ba4b5c4ce7')\"\n",
              "            title=\"Convert this dataframe to an interactive table.\"\n",
              "            style=\"display:none;\">\n",
              "\n",
              "  <svg xmlns=\"http://www.w3.org/2000/svg\" height=\"24px\" viewBox=\"0 -960 960 960\">\n",
              "    <path d=\"M120-120v-720h720v720H120Zm60-500h600v-160H180v160Zm220 220h160v-160H400v160Zm0 220h160v-160H400v160ZM180-400h160v-160H180v160Zm440 0h160v-160H620v160ZM180-180h160v-160H180v160Zm440 0h160v-160H620v160Z\"/>\n",
              "  </svg>\n",
              "    </button>\n",
              "\n",
              "  <style>\n",
              "    .colab-df-container {\n",
              "      display:flex;\n",
              "      gap: 12px;\n",
              "    }\n",
              "\n",
              "    .colab-df-convert {\n",
              "      background-color: #E8F0FE;\n",
              "      border: none;\n",
              "      border-radius: 50%;\n",
              "      cursor: pointer;\n",
              "      display: none;\n",
              "      fill: #1967D2;\n",
              "      height: 32px;\n",
              "      padding: 0 0 0 0;\n",
              "      width: 32px;\n",
              "    }\n",
              "\n",
              "    .colab-df-convert:hover {\n",
              "      background-color: #E2EBFA;\n",
              "      box-shadow: 0px 1px 2px rgba(60, 64, 67, 0.3), 0px 1px 3px 1px rgba(60, 64, 67, 0.15);\n",
              "      fill: #174EA6;\n",
              "    }\n",
              "\n",
              "    .colab-df-buttons div {\n",
              "      margin-bottom: 4px;\n",
              "    }\n",
              "\n",
              "    [theme=dark] .colab-df-convert {\n",
              "      background-color: #3B4455;\n",
              "      fill: #D2E3FC;\n",
              "    }\n",
              "\n",
              "    [theme=dark] .colab-df-convert:hover {\n",
              "      background-color: #434B5C;\n",
              "      box-shadow: 0px 1px 3px 1px rgba(0, 0, 0, 0.15);\n",
              "      filter: drop-shadow(0px 1px 2px rgba(0, 0, 0, 0.3));\n",
              "      fill: #FFFFFF;\n",
              "    }\n",
              "  </style>\n",
              "\n",
              "    <script>\n",
              "      const buttonEl =\n",
              "        document.querySelector('#df-a45523bd-fab8-463c-b4d1-94ba4b5c4ce7 button.colab-df-convert');\n",
              "      buttonEl.style.display =\n",
              "        google.colab.kernel.accessAllowed ? 'block' : 'none';\n",
              "\n",
              "      async function convertToInteractive(key) {\n",
              "        const element = document.querySelector('#df-a45523bd-fab8-463c-b4d1-94ba4b5c4ce7');\n",
              "        const dataTable =\n",
              "          await google.colab.kernel.invokeFunction('convertToInteractive',\n",
              "                                                    [key], {});\n",
              "        if (!dataTable) return;\n",
              "\n",
              "        const docLinkHtml = 'Like what you see? Visit the ' +\n",
              "          '<a target=\"_blank\" href=https://colab.research.google.com/notebooks/data_table.ipynb>data table notebook</a>'\n",
              "          + ' to learn more about interactive tables.';\n",
              "        element.innerHTML = '';\n",
              "        dataTable['output_type'] = 'display_data';\n",
              "        await google.colab.output.renderOutput(dataTable, element);\n",
              "        const docLink = document.createElement('div');\n",
              "        docLink.innerHTML = docLinkHtml;\n",
              "        element.appendChild(docLink);\n",
              "      }\n",
              "    </script>\n",
              "  </div>\n",
              "\n",
              "\n",
              "<div id=\"df-3532d9b0-2d35-4111-b5ec-a734184dfe21\">\n",
              "  <button class=\"colab-df-quickchart\" onclick=\"quickchart('df-3532d9b0-2d35-4111-b5ec-a734184dfe21')\"\n",
              "            title=\"Suggest charts\"\n",
              "            style=\"display:none;\">\n",
              "\n",
              "<svg xmlns=\"http://www.w3.org/2000/svg\" height=\"24px\"viewBox=\"0 0 24 24\"\n",
              "     width=\"24px\">\n",
              "    <g>\n",
              "        <path d=\"M19 3H5c-1.1 0-2 .9-2 2v14c0 1.1.9 2 2 2h14c1.1 0 2-.9 2-2V5c0-1.1-.9-2-2-2zM9 17H7v-7h2v7zm4 0h-2V7h2v10zm4 0h-2v-4h2v4z\"/>\n",
              "    </g>\n",
              "</svg>\n",
              "  </button>\n",
              "\n",
              "<style>\n",
              "  .colab-df-quickchart {\n",
              "      --bg-color: #E8F0FE;\n",
              "      --fill-color: #1967D2;\n",
              "      --hover-bg-color: #E2EBFA;\n",
              "      --hover-fill-color: #174EA6;\n",
              "      --disabled-fill-color: #AAA;\n",
              "      --disabled-bg-color: #DDD;\n",
              "  }\n",
              "\n",
              "  [theme=dark] .colab-df-quickchart {\n",
              "      --bg-color: #3B4455;\n",
              "      --fill-color: #D2E3FC;\n",
              "      --hover-bg-color: #434B5C;\n",
              "      --hover-fill-color: #FFFFFF;\n",
              "      --disabled-bg-color: #3B4455;\n",
              "      --disabled-fill-color: #666;\n",
              "  }\n",
              "\n",
              "  .colab-df-quickchart {\n",
              "    background-color: var(--bg-color);\n",
              "    border: none;\n",
              "    border-radius: 50%;\n",
              "    cursor: pointer;\n",
              "    display: none;\n",
              "    fill: var(--fill-color);\n",
              "    height: 32px;\n",
              "    padding: 0;\n",
              "    width: 32px;\n",
              "  }\n",
              "\n",
              "  .colab-df-quickchart:hover {\n",
              "    background-color: var(--hover-bg-color);\n",
              "    box-shadow: 0 1px 2px rgba(60, 64, 67, 0.3), 0 1px 3px 1px rgba(60, 64, 67, 0.15);\n",
              "    fill: var(--button-hover-fill-color);\n",
              "  }\n",
              "\n",
              "  .colab-df-quickchart-complete:disabled,\n",
              "  .colab-df-quickchart-complete:disabled:hover {\n",
              "    background-color: var(--disabled-bg-color);\n",
              "    fill: var(--disabled-fill-color);\n",
              "    box-shadow: none;\n",
              "  }\n",
              "\n",
              "  .colab-df-spinner {\n",
              "    border: 2px solid var(--fill-color);\n",
              "    border-color: transparent;\n",
              "    border-bottom-color: var(--fill-color);\n",
              "    animation:\n",
              "      spin 1s steps(1) infinite;\n",
              "  }\n",
              "\n",
              "  @keyframes spin {\n",
              "    0% {\n",
              "      border-color: transparent;\n",
              "      border-bottom-color: var(--fill-color);\n",
              "      border-left-color: var(--fill-color);\n",
              "    }\n",
              "    20% {\n",
              "      border-color: transparent;\n",
              "      border-left-color: var(--fill-color);\n",
              "      border-top-color: var(--fill-color);\n",
              "    }\n",
              "    30% {\n",
              "      border-color: transparent;\n",
              "      border-left-color: var(--fill-color);\n",
              "      border-top-color: var(--fill-color);\n",
              "      border-right-color: var(--fill-color);\n",
              "    }\n",
              "    40% {\n",
              "      border-color: transparent;\n",
              "      border-right-color: var(--fill-color);\n",
              "      border-top-color: var(--fill-color);\n",
              "    }\n",
              "    60% {\n",
              "      border-color: transparent;\n",
              "      border-right-color: var(--fill-color);\n",
              "    }\n",
              "    80% {\n",
              "      border-color: transparent;\n",
              "      border-right-color: var(--fill-color);\n",
              "      border-bottom-color: var(--fill-color);\n",
              "    }\n",
              "    90% {\n",
              "      border-color: transparent;\n",
              "      border-bottom-color: var(--fill-color);\n",
              "    }\n",
              "  }\n",
              "</style>\n",
              "\n",
              "  <script>\n",
              "    async function quickchart(key) {\n",
              "      const quickchartButtonEl =\n",
              "        document.querySelector('#' + key + ' button');\n",
              "      quickchartButtonEl.disabled = true;  // To prevent multiple clicks.\n",
              "      quickchartButtonEl.classList.add('colab-df-spinner');\n",
              "      try {\n",
              "        const charts = await google.colab.kernel.invokeFunction(\n",
              "            'suggestCharts', [key], {});\n",
              "      } catch (error) {\n",
              "        console.error('Error during call to suggestCharts:', error);\n",
              "      }\n",
              "      quickchartButtonEl.classList.remove('colab-df-spinner');\n",
              "      quickchartButtonEl.classList.add('colab-df-quickchart-complete');\n",
              "    }\n",
              "    (() => {\n",
              "      let quickchartButtonEl =\n",
              "        document.querySelector('#df-3532d9b0-2d35-4111-b5ec-a734184dfe21 button');\n",
              "      quickchartButtonEl.style.display =\n",
              "        google.colab.kernel.accessAllowed ? 'block' : 'none';\n",
              "    })();\n",
              "  </script>\n",
              "</div>\n",
              "\n",
              "    </div>\n",
              "  </div>\n"
            ],
            "application/vnd.google.colaboratory.intrinsic+json": {
              "type": "dataframe",
              "summary": "{\n  \"name\": \"data\",\n  \"rows\": 10,\n  \"fields\": [\n    {\n      \"column\": \"text\",\n      \"properties\": {\n        \"dtype\": \"string\",\n        \"num_unique_values\": 10,\n        \"samples\": [\n          \"Christopher Guest need not worry, his supreme hold on the Mockumentary sub-genre is not in trouble of being upstaged in the least especially not by this extremely unfunny jab at RPG-gamers. The jokes are beyond lame. Not enough substance to last the typical length of a (particularly rancid) SNL skit, much less the 87 atrocious minutes I waisted watching this drivel. The great William Katt (Greatest American Hero, House) deserves much MUCH better. One thing and one thing alone makes the fact that I saw this worth it in my mind and that's posting about it on here so hopefully just hopefully I'll save someone such a bad experience.<br /><br />My Grade: D- <br /><br />DVD Extras: 2 Audio commentaries; 7 interviews with various cast members; 4 deleted scenes; & theatrical trailer <br /><br />DVD-Rom extras: 2 Wallpapers <br /><br />Easter egg: Highlight the eye in the picture on the main menu for a short scene\",\n          \"Playmania is extremely boring. This is the basis of the show. Mel or Shandi ask extremely easy questions that a 2 year old could answer at an extremely slow pace. This show lasts for 2 hours and they probably only play about 10 games in that period. People may like this show because the hosts are eye candy, but they're hotness completely is destroyed by the fact that they are so friggin annoying.<br /><br />During the show they mention that we need more players a million times. The top 5 surveys that they do probably takes about 20 minutes out of the show. This show is probably one of the worst game shows ever made. One of the reasons they probably don't have callers is because the show is so cheap with the money. The most money I've ever seen them hand out was $210. I wouldn't be surprised if this \\\"game show\\\" is canceled by the end of 2006.\",\n          \"Well - when the cameo appearance of Jason Miller (looking even more eroded than he did in Exorcist IV) is the high point of a picture, what've you got?<br /><br />It's a little bit country, a little bit rock n' roll: mix two drunks with money who drag their kid all over the place with a bog-dried mummy (have you figured that one out yet - DRIED in a bog?) in the basement, Christopher Walken with a bad dye job, and a little girl who might have been an interesting character if they'd developed her.<br /><br />I understand - sort of - that they're going back to visit her relatives. After that....<br /><br />Problem: There are several interesting flashbacks to what I must assume is her mother being killed in a car bombing (I think). This is never connected to anything. <br /><br />Problem: What do we need the grandmother for? Now, the grandmother could be interesting. She speaks Gaelic, or Celtic, or something. Maybe you can make something of her. The best they can do is that she 's got a tobacco habit. That's all.<br /><br />Problem: They cast a real shifty character as the husband. Is he type-cast (will he sell his wife to the devil? Maybe he can look forward to the trust fund he manages for her)or is he cast against type (after all, he has a good haircut and nice clothes)? He drinks, he hesitates. He's not a bad guy. Not a good one. But dislikable. Why didn't they DO something with him?<br /><br />No problem: an old boyfriend shows up. The husband knocks him down. He comes back to knock down the husband. (It gets pretty stupid, but at least THAT character has motivation.) <br /><br />NOW - she's an alcoholic, he's an alcoholic; he might only have married her for her money. The grandmother is locked in the bedroom. The blind uncle takes our heroine to the basement to show her the mummy of a witch (are you following this?) who may come to life. In fact, you KNOW she'll come to life, the music swells. A little girl lives in the house, takes tea to the grandmother (unlocks the door to do so) and provides granny with cigarettes. Periodically, granny gets out. But nothing happens. <br /><br />Husband and wife lose the kid in the house, subsequently lose their bedroom. Uncle gets his throat cut in the basement. The leading lady has nose-bleeds. The husband drinks. They both drink. In the face of all of this, the awful truth alluded to in the first over-voice is - omigod - an abortion when the leading lady was twelve years old.<br /><br />In spite of all these dangling-thread ingredients, nobody managed to get a story on the screen. No bridge between situations, no graduation from mild disturbance to awful horror, just long slow scenes that go nowhere.;nbody, really, to care about - and they had places to go with that aspect - the innocent kid in the charge of drunks,the grandmother who might be locked up because she's a monster, but no, her worst fault is smoking. She's got great hair, good makeup. <br /><br />In short, no plot. Just a little random (predictable)violence in a dark library, with the rain gushing in, and the sound track cuing us in. You need more than a few drunks and Christopher Walken to make a movie.<br /><br />The production values were good. Oh. Nice scenery, good wardrobe. The cameraman, at least, knew what he was doing.<br /><br />I bought it. Poor me.\"\n        ],\n        \"semantic_type\": \"\",\n        \"description\": \"\"\n      }\n    },\n    {\n      \"column\": \"label\",\n      \"properties\": {\n        \"dtype\": \"number\",\n        \"std\": 0,\n        \"min\": 0,\n        \"max\": 1,\n        \"num_unique_values\": 2,\n        \"samples\": [\n          1,\n          0\n        ],\n        \"semantic_type\": \"\",\n        \"description\": \"\"\n      }\n    }\n  ]\n}"
            }
          },
          "metadata": {},
          "execution_count": 273
        }
      ],
      "source": [
        "data.sample(10)"
      ]
    },
    {
      "cell_type": "code",
      "execution_count": 274,
      "id": "b5a090ff",
      "metadata": {
        "colab": {
          "base_uri": "https://localhost:8080/"
        },
        "id": "b5a090ff",
        "outputId": "5a4946ef-6c12-4245-9090-8dabbc80ee35"
      },
      "outputs": [
        {
          "output_type": "stream",
          "name": "stdout",
          "text": [
            "<class 'pandas.core.frame.DataFrame'>\n",
            "RangeIndex: 5000 entries, 0 to 4999\n",
            "Data columns (total 2 columns):\n",
            " #   Column  Non-Null Count  Dtype \n",
            "---  ------  --------------  ----- \n",
            " 0   text    5000 non-null   object\n",
            " 1   label   5000 non-null   int64 \n",
            "dtypes: int64(1), object(1)\n",
            "memory usage: 78.2+ KB\n"
          ]
        }
      ],
      "source": [
        "data.info()"
      ]
    },
    {
      "cell_type": "code",
      "execution_count": 275,
      "id": "080b46c7",
      "metadata": {
        "colab": {
          "base_uri": "https://localhost:8080/"
        },
        "id": "080b46c7",
        "outputId": "508d76dd-de2c-48f8-eb68-6e7a5e4a601a"
      },
      "outputs": [
        {
          "output_type": "execute_result",
          "data": {
            "text/plain": [
              "5"
            ]
          },
          "metadata": {},
          "execution_count": 275
        }
      ],
      "source": [
        "data.duplicated().sum()"
      ]
    },
    {
      "cell_type": "code",
      "execution_count": 276,
      "id": "c6b5fef9",
      "metadata": {
        "id": "c6b5fef9"
      },
      "outputs": [],
      "source": [
        "# duplicated_values = data[data['review'].duplicated()]['review']\n",
        "# duplicated_values"
      ]
    },
    {
      "cell_type": "code",
      "execution_count": 277,
      "id": "34cd181e",
      "metadata": {
        "id": "34cd181e"
      },
      "outputs": [],
      "source": [
        "data = data.drop_duplicates(subset=['text']).reset_index(drop=True)"
      ]
    },
    {
      "cell_type": "code",
      "execution_count": 278,
      "id": "5f7dc80f",
      "metadata": {
        "colab": {
          "base_uri": "https://localhost:8080/"
        },
        "id": "5f7dc80f",
        "outputId": "ce350b03-6b85-49d1-821a-c846304ca49b"
      },
      "outputs": [
        {
          "output_type": "execute_result",
          "data": {
            "text/plain": [
              "1    2502\n",
              "0    2493\n",
              "Name: label, dtype: int64"
            ]
          },
          "metadata": {},
          "execution_count": 278
        }
      ],
      "source": [
        "data['label'].value_counts()"
      ]
    },
    {
      "cell_type": "code",
      "execution_count": 279,
      "id": "4a4be001",
      "metadata": {
        "id": "4a4be001"
      },
      "outputs": [],
      "source": [
        "import matplotlib.pyplot as plt"
      ]
    },
    {
      "cell_type": "markdown",
      "id": "bf629611",
      "metadata": {
        "id": "bf629611"
      },
      "source": [
        "<br><br><span style='font-size:50px'>Data Preprocessing</span>"
      ]
    },
    {
      "cell_type": "code",
      "execution_count": 280,
      "id": "46e74915",
      "metadata": {
        "id": "46e74915"
      },
      "outputs": [],
      "source": [
        "import re"
      ]
    },
    {
      "cell_type": "markdown",
      "id": "bf53228c",
      "metadata": {
        "id": "bf53228c"
      },
      "source": [
        "<br><br><span style='font-size:30px'>Removing HTML Tags</span>"
      ]
    },
    {
      "cell_type": "code",
      "execution_count": 281,
      "id": "6f8f819c",
      "metadata": {
        "id": "6f8f819c"
      },
      "outputs": [],
      "source": [
        "def removeHTML(text):\n",
        "    text = re.sub(r'<[^>]*>', '', text)\n",
        "    return(text)"
      ]
    },
    {
      "cell_type": "markdown",
      "id": "f931c079",
      "metadata": {
        "id": "f931c079"
      },
      "source": [
        "<br><br><span style='font-size:30px'>Removing Stop Words</span>"
      ]
    },
    {
      "cell_type": "code",
      "execution_count": 282,
      "id": "a4d1846c",
      "metadata": {
        "colab": {
          "base_uri": "https://localhost:8080/"
        },
        "id": "a4d1846c",
        "outputId": "35523935-76cb-4569-b325-1cbaf8ae1758"
      },
      "outputs": [
        {
          "output_type": "stream",
          "name": "stderr",
          "text": [
            "[nltk_data] Downloading package stopwords to /root/nltk_data...\n",
            "[nltk_data]   Package stopwords is already up-to-date!\n"
          ]
        }
      ],
      "source": [
        "import nltk\n",
        "nltk.download('stopwords')\n",
        "from nltk.corpus import stopwords\n",
        "stop_words = stopwords.words('english')"
      ]
    },
    {
      "cell_type": "code",
      "execution_count": 283,
      "id": "ce2fe041",
      "metadata": {
        "id": "ce2fe041"
      },
      "outputs": [],
      "source": [
        "def removeStopWords(text):\n",
        "    words = text.lower().split()\n",
        "    filtered_words = [word for word in words if word not in stop_words]\n",
        "    text = ' '.join(filtered_words)\n",
        "    return(text)"
      ]
    },
    {
      "cell_type": "markdown",
      "id": "616ed49a",
      "metadata": {
        "id": "616ed49a"
      },
      "source": [
        "<br><br><span style='font-size:30px'>Text Lemmatizing</span>"
      ]
    },
    {
      "cell_type": "code",
      "execution_count": 284,
      "id": "86ecb81c",
      "metadata": {
        "colab": {
          "base_uri": "https://localhost:8080/"
        },
        "id": "86ecb81c",
        "outputId": "7bfd418c-f6b2-4d53-def0-378bb82e5de7"
      },
      "outputs": [
        {
          "output_type": "stream",
          "name": "stderr",
          "text": [
            "[nltk_data] Downloading package wordnet to /root/nltk_data...\n",
            "[nltk_data]   Package wordnet is already up-to-date!\n"
          ]
        }
      ],
      "source": [
        "import nltk\n",
        "from nltk.stem import WordNetLemmatizer\n",
        "nltk.download('wordnet')\n",
        "lemmatizer = WordNetLemmatizer()"
      ]
    },
    {
      "cell_type": "code",
      "execution_count": 285,
      "id": "d7428927",
      "metadata": {
        "id": "d7428927"
      },
      "outputs": [],
      "source": [
        "def Lemmatizing(text):\n",
        "    text = lemmatizer.lemmatize(text)\n",
        "    return(text)"
      ]
    },
    {
      "cell_type": "markdown",
      "id": "ed77cadd",
      "metadata": {
        "id": "ed77cadd"
      },
      "source": [
        "<br><br><span style='font-size:30px'>Removing Noise</span>"
      ]
    },
    {
      "cell_type": "code",
      "execution_count": 286,
      "id": "8725ef49",
      "metadata": {
        "id": "8725ef49"
      },
      "outputs": [],
      "source": [
        "def removeNoise(text):\n",
        "    text = re.sub(r'[^a-zA-Z\\s]+', '', text) # Only keep English letters\n",
        "    text = re.sub(r'(\\w)\\1{2,}', r'\\1', text)   #Normalize Repeated Letters\n",
        "    text = re.sub(r'\\s{2,}', ' ', text).strip() # Removing extra spaces\n",
        "    return(text)"
      ]
    },
    {
      "cell_type": "markdown",
      "id": "3b7e13c4",
      "metadata": {
        "id": "3b7e13c4"
      },
      "source": [
        "<br><br><br><br><span style='font-size:50px'>Adding New Column for the Cleaned Text</span>"
      ]
    },
    {
      "cell_type": "code",
      "execution_count": 287,
      "id": "658a8e6b",
      "metadata": {
        "id": "658a8e6b"
      },
      "outputs": [],
      "source": [
        "CleanedText = []"
      ]
    },
    {
      "cell_type": "code",
      "execution_count": 288,
      "id": "a113f957",
      "metadata": {
        "id": "a113f957"
      },
      "outputs": [],
      "source": [
        "for i in range(len(data)):\n",
        "    text = data.text[i]\n",
        "    text = removeHTML(text)\n",
        "    text = removeStopWords(text)\n",
        "    text = Lemmatizing(text)\n",
        "    text = removeNoise(text)\n",
        "    CleanedText.append(text)"
      ]
    },
    {
      "cell_type": "code",
      "execution_count": 289,
      "id": "f629f2e1",
      "metadata": {
        "scrolled": true,
        "id": "f629f2e1"
      },
      "outputs": [],
      "source": [
        "data['CleanedText'] = CleanedText"
      ]
    },
    {
      "cell_type": "code",
      "execution_count": 290,
      "id": "6271df73",
      "metadata": {
        "id": "6271df73"
      },
      "outputs": [],
      "source": [
        "#data = data.drop(['CleanedText'],axis=1)"
      ]
    },
    {
      "cell_type": "code",
      "execution_count": 291,
      "id": "f5800307",
      "metadata": {
        "colab": {
          "base_uri": "https://localhost:8080/",
          "height": 206
        },
        "id": "f5800307",
        "outputId": "093fcdc8-c9dc-44e5-8a9e-50774eeb57ca"
      },
      "outputs": [
        {
          "output_type": "execute_result",
          "data": {
            "text/plain": [
              "                                                text  label  \\\n",
              "0  I always wrote this series off as being a comp...      0   \n",
              "1  1st watched 12/7/2002 - 3 out of 10(Dir-Steve ...      0   \n",
              "2  This movie was so poorly written and directed ...      0   \n",
              "3  The most interesting thing about Miryang (Secr...      1   \n",
              "4  when i first read about \"berlin am meer\" i did...      0   \n",
              "\n",
              "                                         CleanedText  \n",
              "0  always wrote series complete stinkfest jim bel...  \n",
              "1  st watched dirsteve purcell typical mary kate ...  \n",
              "2  movie poorly written directed fell asleep minu...  \n",
              "3  interesting thing miryang secret sunshine acto...  \n",
              "4  first read berlin meer expect much thought rig...  "
            ],
            "text/html": [
              "\n",
              "  <div id=\"df-ef2abb24-4fd7-405d-8a4c-03010087c1ec\" class=\"colab-df-container\">\n",
              "    <div>\n",
              "<style scoped>\n",
              "    .dataframe tbody tr th:only-of-type {\n",
              "        vertical-align: middle;\n",
              "    }\n",
              "\n",
              "    .dataframe tbody tr th {\n",
              "        vertical-align: top;\n",
              "    }\n",
              "\n",
              "    .dataframe thead th {\n",
              "        text-align: right;\n",
              "    }\n",
              "</style>\n",
              "<table border=\"1\" class=\"dataframe\">\n",
              "  <thead>\n",
              "    <tr style=\"text-align: right;\">\n",
              "      <th></th>\n",
              "      <th>text</th>\n",
              "      <th>label</th>\n",
              "      <th>CleanedText</th>\n",
              "    </tr>\n",
              "  </thead>\n",
              "  <tbody>\n",
              "    <tr>\n",
              "      <th>0</th>\n",
              "      <td>I always wrote this series off as being a comp...</td>\n",
              "      <td>0</td>\n",
              "      <td>always wrote series complete stinkfest jim bel...</td>\n",
              "    </tr>\n",
              "    <tr>\n",
              "      <th>1</th>\n",
              "      <td>1st watched 12/7/2002 - 3 out of 10(Dir-Steve ...</td>\n",
              "      <td>0</td>\n",
              "      <td>st watched dirsteve purcell typical mary kate ...</td>\n",
              "    </tr>\n",
              "    <tr>\n",
              "      <th>2</th>\n",
              "      <td>This movie was so poorly written and directed ...</td>\n",
              "      <td>0</td>\n",
              "      <td>movie poorly written directed fell asleep minu...</td>\n",
              "    </tr>\n",
              "    <tr>\n",
              "      <th>3</th>\n",
              "      <td>The most interesting thing about Miryang (Secr...</td>\n",
              "      <td>1</td>\n",
              "      <td>interesting thing miryang secret sunshine acto...</td>\n",
              "    </tr>\n",
              "    <tr>\n",
              "      <th>4</th>\n",
              "      <td>when i first read about \"berlin am meer\" i did...</td>\n",
              "      <td>0</td>\n",
              "      <td>first read berlin meer expect much thought rig...</td>\n",
              "    </tr>\n",
              "  </tbody>\n",
              "</table>\n",
              "</div>\n",
              "    <div class=\"colab-df-buttons\">\n",
              "\n",
              "  <div class=\"colab-df-container\">\n",
              "    <button class=\"colab-df-convert\" onclick=\"convertToInteractive('df-ef2abb24-4fd7-405d-8a4c-03010087c1ec')\"\n",
              "            title=\"Convert this dataframe to an interactive table.\"\n",
              "            style=\"display:none;\">\n",
              "\n",
              "  <svg xmlns=\"http://www.w3.org/2000/svg\" height=\"24px\" viewBox=\"0 -960 960 960\">\n",
              "    <path d=\"M120-120v-720h720v720H120Zm60-500h600v-160H180v160Zm220 220h160v-160H400v160Zm0 220h160v-160H400v160ZM180-400h160v-160H180v160Zm440 0h160v-160H620v160ZM180-180h160v-160H180v160Zm440 0h160v-160H620v160Z\"/>\n",
              "  </svg>\n",
              "    </button>\n",
              "\n",
              "  <style>\n",
              "    .colab-df-container {\n",
              "      display:flex;\n",
              "      gap: 12px;\n",
              "    }\n",
              "\n",
              "    .colab-df-convert {\n",
              "      background-color: #E8F0FE;\n",
              "      border: none;\n",
              "      border-radius: 50%;\n",
              "      cursor: pointer;\n",
              "      display: none;\n",
              "      fill: #1967D2;\n",
              "      height: 32px;\n",
              "      padding: 0 0 0 0;\n",
              "      width: 32px;\n",
              "    }\n",
              "\n",
              "    .colab-df-convert:hover {\n",
              "      background-color: #E2EBFA;\n",
              "      box-shadow: 0px 1px 2px rgba(60, 64, 67, 0.3), 0px 1px 3px 1px rgba(60, 64, 67, 0.15);\n",
              "      fill: #174EA6;\n",
              "    }\n",
              "\n",
              "    .colab-df-buttons div {\n",
              "      margin-bottom: 4px;\n",
              "    }\n",
              "\n",
              "    [theme=dark] .colab-df-convert {\n",
              "      background-color: #3B4455;\n",
              "      fill: #D2E3FC;\n",
              "    }\n",
              "\n",
              "    [theme=dark] .colab-df-convert:hover {\n",
              "      background-color: #434B5C;\n",
              "      box-shadow: 0px 1px 3px 1px rgba(0, 0, 0, 0.15);\n",
              "      filter: drop-shadow(0px 1px 2px rgba(0, 0, 0, 0.3));\n",
              "      fill: #FFFFFF;\n",
              "    }\n",
              "  </style>\n",
              "\n",
              "    <script>\n",
              "      const buttonEl =\n",
              "        document.querySelector('#df-ef2abb24-4fd7-405d-8a4c-03010087c1ec button.colab-df-convert');\n",
              "      buttonEl.style.display =\n",
              "        google.colab.kernel.accessAllowed ? 'block' : 'none';\n",
              "\n",
              "      async function convertToInteractive(key) {\n",
              "        const element = document.querySelector('#df-ef2abb24-4fd7-405d-8a4c-03010087c1ec');\n",
              "        const dataTable =\n",
              "          await google.colab.kernel.invokeFunction('convertToInteractive',\n",
              "                                                    [key], {});\n",
              "        if (!dataTable) return;\n",
              "\n",
              "        const docLinkHtml = 'Like what you see? Visit the ' +\n",
              "          '<a target=\"_blank\" href=https://colab.research.google.com/notebooks/data_table.ipynb>data table notebook</a>'\n",
              "          + ' to learn more about interactive tables.';\n",
              "        element.innerHTML = '';\n",
              "        dataTable['output_type'] = 'display_data';\n",
              "        await google.colab.output.renderOutput(dataTable, element);\n",
              "        const docLink = document.createElement('div');\n",
              "        docLink.innerHTML = docLinkHtml;\n",
              "        element.appendChild(docLink);\n",
              "      }\n",
              "    </script>\n",
              "  </div>\n",
              "\n",
              "\n",
              "<div id=\"df-a9c5c720-135e-4abc-b495-47b47fef8419\">\n",
              "  <button class=\"colab-df-quickchart\" onclick=\"quickchart('df-a9c5c720-135e-4abc-b495-47b47fef8419')\"\n",
              "            title=\"Suggest charts\"\n",
              "            style=\"display:none;\">\n",
              "\n",
              "<svg xmlns=\"http://www.w3.org/2000/svg\" height=\"24px\"viewBox=\"0 0 24 24\"\n",
              "     width=\"24px\">\n",
              "    <g>\n",
              "        <path d=\"M19 3H5c-1.1 0-2 .9-2 2v14c0 1.1.9 2 2 2h14c1.1 0 2-.9 2-2V5c0-1.1-.9-2-2-2zM9 17H7v-7h2v7zm4 0h-2V7h2v10zm4 0h-2v-4h2v4z\"/>\n",
              "    </g>\n",
              "</svg>\n",
              "  </button>\n",
              "\n",
              "<style>\n",
              "  .colab-df-quickchart {\n",
              "      --bg-color: #E8F0FE;\n",
              "      --fill-color: #1967D2;\n",
              "      --hover-bg-color: #E2EBFA;\n",
              "      --hover-fill-color: #174EA6;\n",
              "      --disabled-fill-color: #AAA;\n",
              "      --disabled-bg-color: #DDD;\n",
              "  }\n",
              "\n",
              "  [theme=dark] .colab-df-quickchart {\n",
              "      --bg-color: #3B4455;\n",
              "      --fill-color: #D2E3FC;\n",
              "      --hover-bg-color: #434B5C;\n",
              "      --hover-fill-color: #FFFFFF;\n",
              "      --disabled-bg-color: #3B4455;\n",
              "      --disabled-fill-color: #666;\n",
              "  }\n",
              "\n",
              "  .colab-df-quickchart {\n",
              "    background-color: var(--bg-color);\n",
              "    border: none;\n",
              "    border-radius: 50%;\n",
              "    cursor: pointer;\n",
              "    display: none;\n",
              "    fill: var(--fill-color);\n",
              "    height: 32px;\n",
              "    padding: 0;\n",
              "    width: 32px;\n",
              "  }\n",
              "\n",
              "  .colab-df-quickchart:hover {\n",
              "    background-color: var(--hover-bg-color);\n",
              "    box-shadow: 0 1px 2px rgba(60, 64, 67, 0.3), 0 1px 3px 1px rgba(60, 64, 67, 0.15);\n",
              "    fill: var(--button-hover-fill-color);\n",
              "  }\n",
              "\n",
              "  .colab-df-quickchart-complete:disabled,\n",
              "  .colab-df-quickchart-complete:disabled:hover {\n",
              "    background-color: var(--disabled-bg-color);\n",
              "    fill: var(--disabled-fill-color);\n",
              "    box-shadow: none;\n",
              "  }\n",
              "\n",
              "  .colab-df-spinner {\n",
              "    border: 2px solid var(--fill-color);\n",
              "    border-color: transparent;\n",
              "    border-bottom-color: var(--fill-color);\n",
              "    animation:\n",
              "      spin 1s steps(1) infinite;\n",
              "  }\n",
              "\n",
              "  @keyframes spin {\n",
              "    0% {\n",
              "      border-color: transparent;\n",
              "      border-bottom-color: var(--fill-color);\n",
              "      border-left-color: var(--fill-color);\n",
              "    }\n",
              "    20% {\n",
              "      border-color: transparent;\n",
              "      border-left-color: var(--fill-color);\n",
              "      border-top-color: var(--fill-color);\n",
              "    }\n",
              "    30% {\n",
              "      border-color: transparent;\n",
              "      border-left-color: var(--fill-color);\n",
              "      border-top-color: var(--fill-color);\n",
              "      border-right-color: var(--fill-color);\n",
              "    }\n",
              "    40% {\n",
              "      border-color: transparent;\n",
              "      border-right-color: var(--fill-color);\n",
              "      border-top-color: var(--fill-color);\n",
              "    }\n",
              "    60% {\n",
              "      border-color: transparent;\n",
              "      border-right-color: var(--fill-color);\n",
              "    }\n",
              "    80% {\n",
              "      border-color: transparent;\n",
              "      border-right-color: var(--fill-color);\n",
              "      border-bottom-color: var(--fill-color);\n",
              "    }\n",
              "    90% {\n",
              "      border-color: transparent;\n",
              "      border-bottom-color: var(--fill-color);\n",
              "    }\n",
              "  }\n",
              "</style>\n",
              "\n",
              "  <script>\n",
              "    async function quickchart(key) {\n",
              "      const quickchartButtonEl =\n",
              "        document.querySelector('#' + key + ' button');\n",
              "      quickchartButtonEl.disabled = true;  // To prevent multiple clicks.\n",
              "      quickchartButtonEl.classList.add('colab-df-spinner');\n",
              "      try {\n",
              "        const charts = await google.colab.kernel.invokeFunction(\n",
              "            'suggestCharts', [key], {});\n",
              "      } catch (error) {\n",
              "        console.error('Error during call to suggestCharts:', error);\n",
              "      }\n",
              "      quickchartButtonEl.classList.remove('colab-df-spinner');\n",
              "      quickchartButtonEl.classList.add('colab-df-quickchart-complete');\n",
              "    }\n",
              "    (() => {\n",
              "      let quickchartButtonEl =\n",
              "        document.querySelector('#df-a9c5c720-135e-4abc-b495-47b47fef8419 button');\n",
              "      quickchartButtonEl.style.display =\n",
              "        google.colab.kernel.accessAllowed ? 'block' : 'none';\n",
              "    })();\n",
              "  </script>\n",
              "</div>\n",
              "\n",
              "    </div>\n",
              "  </div>\n"
            ],
            "application/vnd.google.colaboratory.intrinsic+json": {
              "type": "dataframe",
              "variable_name": "data",
              "summary": "{\n  \"name\": \"data\",\n  \"rows\": 4995,\n  \"fields\": [\n    {\n      \"column\": \"text\",\n      \"properties\": {\n        \"dtype\": \"string\",\n        \"num_unique_values\": 4995,\n        \"samples\": [\n          \"I'm the sort of person who went down to the local library and read books on Babbage's difference engine whilst my schoolmates were playing football etc.. So, if there is any such thing as a target audience for this film, then I guess I'd probably be included in that.<br /><br />Maybe I just need to watch it again. A previous reviewer mentioned not to watch this film whilst being tired. Maybe that was my mistake.<br /><br />I tried my best to enjoy this film, and there are aspects of it that I do like, but overall I found it amateurish and quite plodding.<br /><br />Being somewhat of a self confessed computer nerd, I just can't help but pick up on the exact time frame when the movie was actually made, and how the employed graphics reflect that time (i.e. 1997). Having played games of the era c.f. \\\"Mind Grind\\\" to cite one example, this film cannot escape that 16-bit colour low res multimedia explosion of that time. Now thankfully this has somewhat lessened in more recent years in the gaming world at least, in favour of actual game play.<br /><br />Having to resort to watching this movie via a German FTA satellite channel (as I don't think it's ever been aired on UK FTA TV, well not recently anyway), I was mildly amused to see the end credits note Gottdog (God dog) had 4 people working on it's design. Maybe it's mean spirited of me to be amused by this, given that ten years have elapsed since the movie was made, nevertheless the end result makes movie graphics from the eighties look good by comparison.<br /><br />But, as for the main story, I agree that the format isn't the best idea. Like others I agree that Ada deserves a film without the sci-fi angle, and a more straightforward biographical approach would perhaps be better suited to covering the life story of this remarkable lady.<br /><br />There are fundamental mistakes that undermine my enjoyment of this movie. First of all the underlying idea that somehow lost real-world information from the past can be accurately reconstructed through some sort of extrapolation via software based intelligent agents, seems somehow ludicrous.<br /><br />Also, the theme running through the movie that a computing device can indeed predict the mechanics of all things through the course of time (e.g. the winds) is now known not to be the case.<br /><br />OK, so the Victorians may have held this view, but the 20th century works of G\\u00f6del proving that no mathematical system can be complete, Turing's works on the limits of computability, not to mention chaos theory and quantum mechanics, have all completely undermined these ideas, which seem central to how the modern day researcher's software is supposed to work.<br /><br />Finally, the clicking of the mouse in the air to mean \\\"programming\\\" is also just plain wrong, as previously mentioned.<br /><br />This film maybe could have been OK, but at least some technical and scientific consultation would have given the film some much needed credit in the believability stakes.<br /><br />I won't forget the film though, as like \\\"Pi\\\", it is clearly a unique work, but with too many fatal mistakes for me to truly enjoy it, 3/10 from me.\",\n          \"I have two good things to say about this film: the scenery is beautiful and Peter Falk gives a good performance (considering what he had to work with in terms of dialog and direction). However, that said, I found this film extremely tiresome. Watching paint dry would have been more entertaining. It seemed much longer than 97 minutes. Beginning with opening sequence, where everyone is talking over each other and Paul Reiser is repeating everything that's said to him on the phone, the movie is annoying. The film is filled with clich\\u00e9s and shtick, not to mention endless incidents of audible flatulence by Falk. Also, the director seems to have had difficulty deciding whether to aim for laughs or tears. There are some sequences that are touching, but they're all played for laughs. If schmaltzy, sentimental, and \\\"cute\\\" appeal to you, you'll love it. But if you were hoping for something with more substance, see a different movie.\",\n          \"Strained and humorless (especially in light of its rather dubious psychology), but well-paced and comfortably lurid, this genteel body count movie highlights the unusually hypnotic presence of Angharad Rees as a young woman periodically possessed by Jack the Ripper, thus allowing for some nasty gore effects amidst the Edwardian propriety. It's all pretty standard stuff for Hammer, but is handled with a good deal of visual elan, even if the central relationship, between psychoanalyst Porter and Rees, drives the narrative without ever being satisfactorily explained.\"\n        ],\n        \"semantic_type\": \"\",\n        \"description\": \"\"\n      }\n    },\n    {\n      \"column\": \"label\",\n      \"properties\": {\n        \"dtype\": \"number\",\n        \"std\": 0,\n        \"min\": 0,\n        \"max\": 1,\n        \"num_unique_values\": 2,\n        \"samples\": [\n          1,\n          0\n        ],\n        \"semantic_type\": \"\",\n        \"description\": \"\"\n      }\n    },\n    {\n      \"column\": \"CleanedText\",\n      \"properties\": {\n        \"dtype\": \"string\",\n        \"num_unique_values\": 4995,\n        \"samples\": [\n          \"im sort person went local library read books babbages difference engine whilst schoolmates playing football etc so thing target audience film guess id probably included thatmaybe need watch again previous reviewer mentioned watch film whilst tired maybe mistakei tried best enjoy film aspects like overall found amateurish quite ploddingbeing somewhat self confessed computer nerd cant help pick exact time frame movie actually made employed graphics reflect time ie played games era cf mind grind cite one example film cannot escape bit colour low res multimedia explosion time thankfully somewhat lessened recent years gaming world least favour actual game playhaving resort watching movie via german fta satellite channel as think ever aired uk fta tv well recently anyway mildly amused see end credits note gottdog god dog people working design maybe mean spirited amused this given ten years elapsed since movie made nevertheless end result makes movie graphics eighties look good comparisonbut main story agree format best idea like others agree ada deserves film without scifi angle straightforward biographical approach would perhaps better suited covering life story remarkable ladythere fundamental mistakes undermine enjoyment movie first underlying idea somehow lost realworld information past accurately reconstructed sort extrapolation via software based intelligent agents seems somehow ludicrousalso theme running movie computing device indeed predict mechanics things course time eg winds known caseok victorians may held view th century works gdel proving mathematical system complete turings works limits computability mention chaos theory quantum mechanics completely undermined ideas seem central modern day researchers software supposed workfinally clicking mouse air mean programming also plain wrong previously mentionedthis film maybe could ok least technical scientific consultation would given film much needed credit believability stakesi forget film though like pi clearly unique work many fatal mistakes truly enjoy it me\",\n          \"two good things say film scenery beautiful peter falk gives good performance considering work terms dialog direction however said found film extremely tiresome watching paint dry would entertaining seemed much longer minutes beginning opening sequence everyone talking paul reiser repeating everything thats said phone movie annoying film filled clichs shtick mention endless incidents audible flatulence falk also director seems difficulty deciding whether aim laughs tears sequences touching theyre played laughs schmaltzy sentimental cute appeal you love it hoping something substance see different movie\"\n        ],\n        \"semantic_type\": \"\",\n        \"description\": \"\"\n      }\n    }\n  ]\n}"
            }
          },
          "metadata": {},
          "execution_count": 291
        }
      ],
      "source": [
        "data.head()"
      ]
    },
    {
      "cell_type": "code",
      "execution_count": 292,
      "id": "c28a44bc",
      "metadata": {
        "colab": {
          "base_uri": "https://localhost:8080/",
          "height": 676
        },
        "id": "c28a44bc",
        "outputId": "19b5523b-29c6-419a-9f10-1ef9e6a42ec7"
      },
      "outputs": [
        {
          "output_type": "execute_result",
          "data": {
            "text/plain": [
              "                                                   text  label  \\\n",
              "1336  I was a still photographer working in Europe t...      0   \n",
              "2800  A movie visually graceful but interesting is m...      1   \n",
              "3161  Across the country and especially in the polit...      1   \n",
              "2642  I've rented this gem several times! It's a sma...      1   \n",
              "3801  Skullduggery is a strange, strange film based ...      0   \n",
              "2411  I have never been a great fan of Oliver Stone,...      1   \n",
              "23    This movie makes me want to fall in love all o...      1   \n",
              "1706  Apart from the DA (James Eckhouse), and a brie...      0   \n",
              "2682  The Priyadarshan/Paresh Rawal combo has been g...      0   \n",
              "756   This 1981 comedy still sparkles thanks to the ...      1   \n",
              "1767  I liked the understated character that Laura L...      0   \n",
              "2924  I was able to watch this movie in its entirety...      1   \n",
              "1588  'How to Lose Friends and Alienate People' is a...      1   \n",
              "3027  As a Turkish man now living in Sweden I must c...      0   \n",
              "1418  Given the title and outlandish box art, I was ...      0   \n",
              "1461  There are very few performers today who can ke...      1   \n",
              "3950  Michael Caine might have tried to make a large...      0   \n",
              "2263  If only ALL animation was this great. This fil...      1   \n",
              "3449  I can't quite explain why I find this so allur...      1   \n",
              "2155  Although a made for cable film by HBO, it is a...      1   \n",
              "\n",
              "                                            CleanedText  \n",
              "1336  still photographer working europe summer jim s...  \n",
              "2800  movie visually graceful interesting mainly plo...  \n",
              "3161  across country especially political landscape ...  \n",
              "2642  ive rented gem several times small yet somehow...  \n",
              "3801  skullduggery strange strange film based novel ...  \n",
              "2411  never great fan oliver stone often found films...  \n",
              "23    movie makes want fall love againi naming next ...  \n",
              "1706  apart da james eckhouse brief appearing woman ...  \n",
              "2682  priyadarshanparesh rawal combo golden likes he...  \n",
              "756   comedy still sparkles thanks combined efforts ...  \n",
              "1767  liked understated character laura linney playe...  \n",
              "2924  able watch movie entirety deeply moved it sure...  \n",
              "1588  how lose friends alienate people entertaining ...  \n",
              "3027  turkish man living sweden must confess often w...  \n",
              "1418  given title outlandish box art ready anything ...  \n",
              "1461  performers today keep captivated throughout en...  \n",
              "3950  michael caine might tried make larger life cha...  \n",
              "2263  animation great film classic strong two simple...  \n",
              "3449  cant quite explain find alluring the leopard n...  \n",
              "2155  although made cable film hbo enjoyable movie f...  "
            ],
            "text/html": [
              "\n",
              "  <div id=\"df-e1387a74-29a6-4c15-92b7-6f0b448da0a1\" class=\"colab-df-container\">\n",
              "    <div>\n",
              "<style scoped>\n",
              "    .dataframe tbody tr th:only-of-type {\n",
              "        vertical-align: middle;\n",
              "    }\n",
              "\n",
              "    .dataframe tbody tr th {\n",
              "        vertical-align: top;\n",
              "    }\n",
              "\n",
              "    .dataframe thead th {\n",
              "        text-align: right;\n",
              "    }\n",
              "</style>\n",
              "<table border=\"1\" class=\"dataframe\">\n",
              "  <thead>\n",
              "    <tr style=\"text-align: right;\">\n",
              "      <th></th>\n",
              "      <th>text</th>\n",
              "      <th>label</th>\n",
              "      <th>CleanedText</th>\n",
              "    </tr>\n",
              "  </thead>\n",
              "  <tbody>\n",
              "    <tr>\n",
              "      <th>1336</th>\n",
              "      <td>I was a still photographer working in Europe t...</td>\n",
              "      <td>0</td>\n",
              "      <td>still photographer working europe summer jim s...</td>\n",
              "    </tr>\n",
              "    <tr>\n",
              "      <th>2800</th>\n",
              "      <td>A movie visually graceful but interesting is m...</td>\n",
              "      <td>1</td>\n",
              "      <td>movie visually graceful interesting mainly plo...</td>\n",
              "    </tr>\n",
              "    <tr>\n",
              "      <th>3161</th>\n",
              "      <td>Across the country and especially in the polit...</td>\n",
              "      <td>1</td>\n",
              "      <td>across country especially political landscape ...</td>\n",
              "    </tr>\n",
              "    <tr>\n",
              "      <th>2642</th>\n",
              "      <td>I've rented this gem several times! It's a sma...</td>\n",
              "      <td>1</td>\n",
              "      <td>ive rented gem several times small yet somehow...</td>\n",
              "    </tr>\n",
              "    <tr>\n",
              "      <th>3801</th>\n",
              "      <td>Skullduggery is a strange, strange film based ...</td>\n",
              "      <td>0</td>\n",
              "      <td>skullduggery strange strange film based novel ...</td>\n",
              "    </tr>\n",
              "    <tr>\n",
              "      <th>2411</th>\n",
              "      <td>I have never been a great fan of Oliver Stone,...</td>\n",
              "      <td>1</td>\n",
              "      <td>never great fan oliver stone often found films...</td>\n",
              "    </tr>\n",
              "    <tr>\n",
              "      <th>23</th>\n",
              "      <td>This movie makes me want to fall in love all o...</td>\n",
              "      <td>1</td>\n",
              "      <td>movie makes want fall love againi naming next ...</td>\n",
              "    </tr>\n",
              "    <tr>\n",
              "      <th>1706</th>\n",
              "      <td>Apart from the DA (James Eckhouse), and a brie...</td>\n",
              "      <td>0</td>\n",
              "      <td>apart da james eckhouse brief appearing woman ...</td>\n",
              "    </tr>\n",
              "    <tr>\n",
              "      <th>2682</th>\n",
              "      <td>The Priyadarshan/Paresh Rawal combo has been g...</td>\n",
              "      <td>0</td>\n",
              "      <td>priyadarshanparesh rawal combo golden likes he...</td>\n",
              "    </tr>\n",
              "    <tr>\n",
              "      <th>756</th>\n",
              "      <td>This 1981 comedy still sparkles thanks to the ...</td>\n",
              "      <td>1</td>\n",
              "      <td>comedy still sparkles thanks combined efforts ...</td>\n",
              "    </tr>\n",
              "    <tr>\n",
              "      <th>1767</th>\n",
              "      <td>I liked the understated character that Laura L...</td>\n",
              "      <td>0</td>\n",
              "      <td>liked understated character laura linney playe...</td>\n",
              "    </tr>\n",
              "    <tr>\n",
              "      <th>2924</th>\n",
              "      <td>I was able to watch this movie in its entirety...</td>\n",
              "      <td>1</td>\n",
              "      <td>able watch movie entirety deeply moved it sure...</td>\n",
              "    </tr>\n",
              "    <tr>\n",
              "      <th>1588</th>\n",
              "      <td>'How to Lose Friends and Alienate People' is a...</td>\n",
              "      <td>1</td>\n",
              "      <td>how lose friends alienate people entertaining ...</td>\n",
              "    </tr>\n",
              "    <tr>\n",
              "      <th>3027</th>\n",
              "      <td>As a Turkish man now living in Sweden I must c...</td>\n",
              "      <td>0</td>\n",
              "      <td>turkish man living sweden must confess often w...</td>\n",
              "    </tr>\n",
              "    <tr>\n",
              "      <th>1418</th>\n",
              "      <td>Given the title and outlandish box art, I was ...</td>\n",
              "      <td>0</td>\n",
              "      <td>given title outlandish box art ready anything ...</td>\n",
              "    </tr>\n",
              "    <tr>\n",
              "      <th>1461</th>\n",
              "      <td>There are very few performers today who can ke...</td>\n",
              "      <td>1</td>\n",
              "      <td>performers today keep captivated throughout en...</td>\n",
              "    </tr>\n",
              "    <tr>\n",
              "      <th>3950</th>\n",
              "      <td>Michael Caine might have tried to make a large...</td>\n",
              "      <td>0</td>\n",
              "      <td>michael caine might tried make larger life cha...</td>\n",
              "    </tr>\n",
              "    <tr>\n",
              "      <th>2263</th>\n",
              "      <td>If only ALL animation was this great. This fil...</td>\n",
              "      <td>1</td>\n",
              "      <td>animation great film classic strong two simple...</td>\n",
              "    </tr>\n",
              "    <tr>\n",
              "      <th>3449</th>\n",
              "      <td>I can't quite explain why I find this so allur...</td>\n",
              "      <td>1</td>\n",
              "      <td>cant quite explain find alluring the leopard n...</td>\n",
              "    </tr>\n",
              "    <tr>\n",
              "      <th>2155</th>\n",
              "      <td>Although a made for cable film by HBO, it is a...</td>\n",
              "      <td>1</td>\n",
              "      <td>although made cable film hbo enjoyable movie f...</td>\n",
              "    </tr>\n",
              "  </tbody>\n",
              "</table>\n",
              "</div>\n",
              "    <div class=\"colab-df-buttons\">\n",
              "\n",
              "  <div class=\"colab-df-container\">\n",
              "    <button class=\"colab-df-convert\" onclick=\"convertToInteractive('df-e1387a74-29a6-4c15-92b7-6f0b448da0a1')\"\n",
              "            title=\"Convert this dataframe to an interactive table.\"\n",
              "            style=\"display:none;\">\n",
              "\n",
              "  <svg xmlns=\"http://www.w3.org/2000/svg\" height=\"24px\" viewBox=\"0 -960 960 960\">\n",
              "    <path d=\"M120-120v-720h720v720H120Zm60-500h600v-160H180v160Zm220 220h160v-160H400v160Zm0 220h160v-160H400v160ZM180-400h160v-160H180v160Zm440 0h160v-160H620v160ZM180-180h160v-160H180v160Zm440 0h160v-160H620v160Z\"/>\n",
              "  </svg>\n",
              "    </button>\n",
              "\n",
              "  <style>\n",
              "    .colab-df-container {\n",
              "      display:flex;\n",
              "      gap: 12px;\n",
              "    }\n",
              "\n",
              "    .colab-df-convert {\n",
              "      background-color: #E8F0FE;\n",
              "      border: none;\n",
              "      border-radius: 50%;\n",
              "      cursor: pointer;\n",
              "      display: none;\n",
              "      fill: #1967D2;\n",
              "      height: 32px;\n",
              "      padding: 0 0 0 0;\n",
              "      width: 32px;\n",
              "    }\n",
              "\n",
              "    .colab-df-convert:hover {\n",
              "      background-color: #E2EBFA;\n",
              "      box-shadow: 0px 1px 2px rgba(60, 64, 67, 0.3), 0px 1px 3px 1px rgba(60, 64, 67, 0.15);\n",
              "      fill: #174EA6;\n",
              "    }\n",
              "\n",
              "    .colab-df-buttons div {\n",
              "      margin-bottom: 4px;\n",
              "    }\n",
              "\n",
              "    [theme=dark] .colab-df-convert {\n",
              "      background-color: #3B4455;\n",
              "      fill: #D2E3FC;\n",
              "    }\n",
              "\n",
              "    [theme=dark] .colab-df-convert:hover {\n",
              "      background-color: #434B5C;\n",
              "      box-shadow: 0px 1px 3px 1px rgba(0, 0, 0, 0.15);\n",
              "      filter: drop-shadow(0px 1px 2px rgba(0, 0, 0, 0.3));\n",
              "      fill: #FFFFFF;\n",
              "    }\n",
              "  </style>\n",
              "\n",
              "    <script>\n",
              "      const buttonEl =\n",
              "        document.querySelector('#df-e1387a74-29a6-4c15-92b7-6f0b448da0a1 button.colab-df-convert');\n",
              "      buttonEl.style.display =\n",
              "        google.colab.kernel.accessAllowed ? 'block' : 'none';\n",
              "\n",
              "      async function convertToInteractive(key) {\n",
              "        const element = document.querySelector('#df-e1387a74-29a6-4c15-92b7-6f0b448da0a1');\n",
              "        const dataTable =\n",
              "          await google.colab.kernel.invokeFunction('convertToInteractive',\n",
              "                                                    [key], {});\n",
              "        if (!dataTable) return;\n",
              "\n",
              "        const docLinkHtml = 'Like what you see? Visit the ' +\n",
              "          '<a target=\"_blank\" href=https://colab.research.google.com/notebooks/data_table.ipynb>data table notebook</a>'\n",
              "          + ' to learn more about interactive tables.';\n",
              "        element.innerHTML = '';\n",
              "        dataTable['output_type'] = 'display_data';\n",
              "        await google.colab.output.renderOutput(dataTable, element);\n",
              "        const docLink = document.createElement('div');\n",
              "        docLink.innerHTML = docLinkHtml;\n",
              "        element.appendChild(docLink);\n",
              "      }\n",
              "    </script>\n",
              "  </div>\n",
              "\n",
              "\n",
              "<div id=\"df-2b37d3d3-9876-4830-b3f2-c2318a6e99f4\">\n",
              "  <button class=\"colab-df-quickchart\" onclick=\"quickchart('df-2b37d3d3-9876-4830-b3f2-c2318a6e99f4')\"\n",
              "            title=\"Suggest charts\"\n",
              "            style=\"display:none;\">\n",
              "\n",
              "<svg xmlns=\"http://www.w3.org/2000/svg\" height=\"24px\"viewBox=\"0 0 24 24\"\n",
              "     width=\"24px\">\n",
              "    <g>\n",
              "        <path d=\"M19 3H5c-1.1 0-2 .9-2 2v14c0 1.1.9 2 2 2h14c1.1 0 2-.9 2-2V5c0-1.1-.9-2-2-2zM9 17H7v-7h2v7zm4 0h-2V7h2v10zm4 0h-2v-4h2v4z\"/>\n",
              "    </g>\n",
              "</svg>\n",
              "  </button>\n",
              "\n",
              "<style>\n",
              "  .colab-df-quickchart {\n",
              "      --bg-color: #E8F0FE;\n",
              "      --fill-color: #1967D2;\n",
              "      --hover-bg-color: #E2EBFA;\n",
              "      --hover-fill-color: #174EA6;\n",
              "      --disabled-fill-color: #AAA;\n",
              "      --disabled-bg-color: #DDD;\n",
              "  }\n",
              "\n",
              "  [theme=dark] .colab-df-quickchart {\n",
              "      --bg-color: #3B4455;\n",
              "      --fill-color: #D2E3FC;\n",
              "      --hover-bg-color: #434B5C;\n",
              "      --hover-fill-color: #FFFFFF;\n",
              "      --disabled-bg-color: #3B4455;\n",
              "      --disabled-fill-color: #666;\n",
              "  }\n",
              "\n",
              "  .colab-df-quickchart {\n",
              "    background-color: var(--bg-color);\n",
              "    border: none;\n",
              "    border-radius: 50%;\n",
              "    cursor: pointer;\n",
              "    display: none;\n",
              "    fill: var(--fill-color);\n",
              "    height: 32px;\n",
              "    padding: 0;\n",
              "    width: 32px;\n",
              "  }\n",
              "\n",
              "  .colab-df-quickchart:hover {\n",
              "    background-color: var(--hover-bg-color);\n",
              "    box-shadow: 0 1px 2px rgba(60, 64, 67, 0.3), 0 1px 3px 1px rgba(60, 64, 67, 0.15);\n",
              "    fill: var(--button-hover-fill-color);\n",
              "  }\n",
              "\n",
              "  .colab-df-quickchart-complete:disabled,\n",
              "  .colab-df-quickchart-complete:disabled:hover {\n",
              "    background-color: var(--disabled-bg-color);\n",
              "    fill: var(--disabled-fill-color);\n",
              "    box-shadow: none;\n",
              "  }\n",
              "\n",
              "  .colab-df-spinner {\n",
              "    border: 2px solid var(--fill-color);\n",
              "    border-color: transparent;\n",
              "    border-bottom-color: var(--fill-color);\n",
              "    animation:\n",
              "      spin 1s steps(1) infinite;\n",
              "  }\n",
              "\n",
              "  @keyframes spin {\n",
              "    0% {\n",
              "      border-color: transparent;\n",
              "      border-bottom-color: var(--fill-color);\n",
              "      border-left-color: var(--fill-color);\n",
              "    }\n",
              "    20% {\n",
              "      border-color: transparent;\n",
              "      border-left-color: var(--fill-color);\n",
              "      border-top-color: var(--fill-color);\n",
              "    }\n",
              "    30% {\n",
              "      border-color: transparent;\n",
              "      border-left-color: var(--fill-color);\n",
              "      border-top-color: var(--fill-color);\n",
              "      border-right-color: var(--fill-color);\n",
              "    }\n",
              "    40% {\n",
              "      border-color: transparent;\n",
              "      border-right-color: var(--fill-color);\n",
              "      border-top-color: var(--fill-color);\n",
              "    }\n",
              "    60% {\n",
              "      border-color: transparent;\n",
              "      border-right-color: var(--fill-color);\n",
              "    }\n",
              "    80% {\n",
              "      border-color: transparent;\n",
              "      border-right-color: var(--fill-color);\n",
              "      border-bottom-color: var(--fill-color);\n",
              "    }\n",
              "    90% {\n",
              "      border-color: transparent;\n",
              "      border-bottom-color: var(--fill-color);\n",
              "    }\n",
              "  }\n",
              "</style>\n",
              "\n",
              "  <script>\n",
              "    async function quickchart(key) {\n",
              "      const quickchartButtonEl =\n",
              "        document.querySelector('#' + key + ' button');\n",
              "      quickchartButtonEl.disabled = true;  // To prevent multiple clicks.\n",
              "      quickchartButtonEl.classList.add('colab-df-spinner');\n",
              "      try {\n",
              "        const charts = await google.colab.kernel.invokeFunction(\n",
              "            'suggestCharts', [key], {});\n",
              "      } catch (error) {\n",
              "        console.error('Error during call to suggestCharts:', error);\n",
              "      }\n",
              "      quickchartButtonEl.classList.remove('colab-df-spinner');\n",
              "      quickchartButtonEl.classList.add('colab-df-quickchart-complete');\n",
              "    }\n",
              "    (() => {\n",
              "      let quickchartButtonEl =\n",
              "        document.querySelector('#df-2b37d3d3-9876-4830-b3f2-c2318a6e99f4 button');\n",
              "      quickchartButtonEl.style.display =\n",
              "        google.colab.kernel.accessAllowed ? 'block' : 'none';\n",
              "    })();\n",
              "  </script>\n",
              "</div>\n",
              "\n",
              "    </div>\n",
              "  </div>\n"
            ],
            "application/vnd.google.colaboratory.intrinsic+json": {
              "type": "dataframe",
              "summary": "{\n  \"name\": \"data\",\n  \"rows\": 20,\n  \"fields\": [\n    {\n      \"column\": \"text\",\n      \"properties\": {\n        \"dtype\": \"string\",\n        \"num_unique_values\": 20,\n        \"samples\": [\n          \"I was a still photographer working in Europe the summer that Jim Salter shot the movie Three.<br /><br />I did some swell pictures for him, one of which I was told became the poster for the movie. I didn't see the film until years later. I thought it was bad. A pity, because the elements that went into it were compelling. Robie Porter's girlfriend was almast as beautiful as Rampling herself. Salter asked if I would stick around and be an extra cameraman so they wouldn't have to shoot everything twice. I said sure, but I had to return to NY, promising I'd be back. Alas, I never did get back. One of life's unsung melodies.<br /><br />I wish I could post the pictures I made somewhere.<br /><br />Rowland Scherman\",\n          \"If only ALL animation was this great. This film is classic because it is strong is two simple aspects: Story and Character. The characters in this film are beautifully personified. I felt for all of the characters, and human-animal relationship in the movie works perfectly. The beautiful animation and 3-D computer animation hasn't worked better in any other film. This is a great movie for kids, and for adults who want a classic hero's journey. 8 of 10.\",\n          \"There are very few performers today who can keep me captivated throughout an entire film just by their presence. One of those few is Judy Davis, who has built a successful career out of creating characters that are headstrong in attitude but very vulnerable at heart. She takes roles that most other performers would treat melodramatically and adds a fiery, deeply emotional intensity that pulls attention away from everything else on the screen.<br /><br />Her skills are well displayed in \\\"High Tide,\\\" a film that matches her up a second time with director Gillian Armstrong, who gave Davis her first major success with \\\"My Brilliant Career.\\\" In that film, Davis played a young woman who was determined to make it in the world, despite the suffocation she felt from her community and upbringing. In \\\"High Tide,\\\" however, Davis' character, Lillie, is roughly the opposite: she gave up on any hope for her future when she was young, and, after giving birth to a child, runs from her responsibilities and takes up a life without direction or meaning. When she finally meets up with her daughter years later, the thought of taking care of her child is petrifying; she knows this is her chance to atone for her failures, but how can she be honest with her daughter and still gain her respect?<br /><br />Gillian Armstrong's films usually relate stories about characters who desperately want to communicate with each other, but face obstacles set up by their own personal habits and addictions. \\\"Oscar and Lucinda,\\\" for instance, was about a man and a woman who desperately needed each other's love but were always blindsided by their craving for chance, represented by their gambling addictions. Here, we are immersed in the world of a family torn apart by the mother's inability to commit to a settled life and her struggles to redeem herself despite being fully convinced that it's too late to change for the better. This is not simply a film with a great performance at its center, but also a rare achievement: a fully convincing story of redemption.\"\n        ],\n        \"semantic_type\": \"\",\n        \"description\": \"\"\n      }\n    },\n    {\n      \"column\": \"label\",\n      \"properties\": {\n        \"dtype\": \"number\",\n        \"std\": 0,\n        \"min\": 0,\n        \"max\": 1,\n        \"num_unique_values\": 2,\n        \"samples\": [\n          1,\n          0\n        ],\n        \"semantic_type\": \"\",\n        \"description\": \"\"\n      }\n    },\n    {\n      \"column\": \"CleanedText\",\n      \"properties\": {\n        \"dtype\": \"string\",\n        \"num_unique_values\": 20,\n        \"samples\": [\n          \"still photographer working europe summer jim salter shot movie threei swell pictures him one told became poster movie see film years later thought bad pity elements went compelling robie porters girlfriend almast beautiful rampling herself salter asked would stick around extra cameraman shoot everything twice said sure return ny promising id back alas never get back one lifes unsung melodiesi wish could post pictures made somewhererowland scherman\",\n          \"animation great film classic strong two simple aspects story character characters film beautifully personified felt characters humananimal relationship movie works perfectly beautiful animation d computer animation worked better film great movie kids adults want classic heros journey\"\n        ],\n        \"semantic_type\": \"\",\n        \"description\": \"\"\n      }\n    }\n  ]\n}"
            }
          },
          "metadata": {},
          "execution_count": 292
        }
      ],
      "source": [
        "data.sample(20)"
      ]
    },
    {
      "cell_type": "markdown",
      "id": "3b8366d4",
      "metadata": {
        "id": "3b8366d4"
      },
      "source": [
        "<br><br><span style='font-size:50px'>Splitting Data into Training and Testing</span>"
      ]
    },
    {
      "cell_type": "code",
      "execution_count": 293,
      "id": "44745b7c",
      "metadata": {
        "id": "44745b7c"
      },
      "outputs": [],
      "source": [
        "from sklearn.model_selection import train_test_split"
      ]
    },
    {
      "cell_type": "code",
      "execution_count": 294,
      "id": "2a38be35",
      "metadata": {
        "id": "2a38be35"
      },
      "outputs": [],
      "source": [
        "train, test = train_test_split(data, test_size=0.8, random_state=0)"
      ]
    },
    {
      "cell_type": "markdown",
      "id": "186ac811",
      "metadata": {
        "id": "186ac811"
      },
      "source": [
        "<br><br><span style='font-size:50px'>Feature Extraction using TF-IDF Vectorizer</span>"
      ]
    },
    {
      "cell_type": "code",
      "execution_count": 295,
      "id": "c90af4fe",
      "metadata": {
        "id": "c90af4fe"
      },
      "outputs": [],
      "source": [
        "from sklearn.feature_extraction.text import TfidfVectorizer\n",
        "\n",
        "vectorizer = TfidfVectorizer()"
      ]
    },
    {
      "cell_type": "code",
      "execution_count": 296,
      "id": "2ae13d96",
      "metadata": {
        "id": "2ae13d96"
      },
      "outputs": [],
      "source": [
        "X_train = vectorizer.fit_transform(train['CleanedText'])\n",
        "X_test = vectorizer.transform(test['CleanedText'])"
      ]
    },
    {
      "cell_type": "markdown",
      "id": "756b153a",
      "metadata": {
        "id": "756b153a"
      },
      "source": [
        "<br><br><span style='font-size:50px'>Model Building & Evaluation</span>"
      ]
    },
    {
      "cell_type": "code",
      "execution_count": 297,
      "id": "829297a1",
      "metadata": {
        "id": "829297a1"
      },
      "outputs": [],
      "source": [
        "from sklearn.metrics import classification_report,f1_score,accuracy_score"
      ]
    },
    {
      "cell_type": "markdown",
      "id": "5f1ed618",
      "metadata": {
        "id": "5f1ed618"
      },
      "source": [
        "<br><br><span style='font-size:30px'>Multinomial Naive Bayes</span>"
      ]
    },
    {
      "cell_type": "code",
      "execution_count": 298,
      "id": "6f3f12c4",
      "metadata": {
        "id": "6f3f12c4"
      },
      "outputs": [],
      "source": [
        "from sklearn.naive_bayes import MultinomialNB"
      ]
    },
    {
      "cell_type": "code",
      "execution_count": 299,
      "id": "79d2fc94",
      "metadata": {
        "scrolled": false,
        "colab": {
          "base_uri": "https://localhost:8080/",
          "height": 74
        },
        "id": "79d2fc94",
        "outputId": "3a01d5f2-e514-4280-d949-b750956726a9"
      },
      "outputs": [
        {
          "output_type": "execute_result",
          "data": {
            "text/plain": [
              "MultinomialNB()"
            ],
            "text/html": [
              "<style>#sk-container-id-11 {color: black;background-color: white;}#sk-container-id-11 pre{padding: 0;}#sk-container-id-11 div.sk-toggleable {background-color: white;}#sk-container-id-11 label.sk-toggleable__label {cursor: pointer;display: block;width: 100%;margin-bottom: 0;padding: 0.3em;box-sizing: border-box;text-align: center;}#sk-container-id-11 label.sk-toggleable__label-arrow:before {content: \"▸\";float: left;margin-right: 0.25em;color: #696969;}#sk-container-id-11 label.sk-toggleable__label-arrow:hover:before {color: black;}#sk-container-id-11 div.sk-estimator:hover label.sk-toggleable__label-arrow:before {color: black;}#sk-container-id-11 div.sk-toggleable__content {max-height: 0;max-width: 0;overflow: hidden;text-align: left;background-color: #f0f8ff;}#sk-container-id-11 div.sk-toggleable__content pre {margin: 0.2em;color: black;border-radius: 0.25em;background-color: #f0f8ff;}#sk-container-id-11 input.sk-toggleable__control:checked~div.sk-toggleable__content {max-height: 200px;max-width: 100%;overflow: auto;}#sk-container-id-11 input.sk-toggleable__control:checked~label.sk-toggleable__label-arrow:before {content: \"▾\";}#sk-container-id-11 div.sk-estimator input.sk-toggleable__control:checked~label.sk-toggleable__label {background-color: #d4ebff;}#sk-container-id-11 div.sk-label input.sk-toggleable__control:checked~label.sk-toggleable__label {background-color: #d4ebff;}#sk-container-id-11 input.sk-hidden--visually {border: 0;clip: rect(1px 1px 1px 1px);clip: rect(1px, 1px, 1px, 1px);height: 1px;margin: -1px;overflow: hidden;padding: 0;position: absolute;width: 1px;}#sk-container-id-11 div.sk-estimator {font-family: monospace;background-color: #f0f8ff;border: 1px dotted black;border-radius: 0.25em;box-sizing: border-box;margin-bottom: 0.5em;}#sk-container-id-11 div.sk-estimator:hover {background-color: #d4ebff;}#sk-container-id-11 div.sk-parallel-item::after {content: \"\";width: 100%;border-bottom: 1px solid gray;flex-grow: 1;}#sk-container-id-11 div.sk-label:hover label.sk-toggleable__label {background-color: #d4ebff;}#sk-container-id-11 div.sk-serial::before {content: \"\";position: absolute;border-left: 1px solid gray;box-sizing: border-box;top: 0;bottom: 0;left: 50%;z-index: 0;}#sk-container-id-11 div.sk-serial {display: flex;flex-direction: column;align-items: center;background-color: white;padding-right: 0.2em;padding-left: 0.2em;position: relative;}#sk-container-id-11 div.sk-item {position: relative;z-index: 1;}#sk-container-id-11 div.sk-parallel {display: flex;align-items: stretch;justify-content: center;background-color: white;position: relative;}#sk-container-id-11 div.sk-item::before, #sk-container-id-11 div.sk-parallel-item::before {content: \"\";position: absolute;border-left: 1px solid gray;box-sizing: border-box;top: 0;bottom: 0;left: 50%;z-index: -1;}#sk-container-id-11 div.sk-parallel-item {display: flex;flex-direction: column;z-index: 1;position: relative;background-color: white;}#sk-container-id-11 div.sk-parallel-item:first-child::after {align-self: flex-end;width: 50%;}#sk-container-id-11 div.sk-parallel-item:last-child::after {align-self: flex-start;width: 50%;}#sk-container-id-11 div.sk-parallel-item:only-child::after {width: 0;}#sk-container-id-11 div.sk-dashed-wrapped {border: 1px dashed gray;margin: 0 0.4em 0.5em 0.4em;box-sizing: border-box;padding-bottom: 0.4em;background-color: white;}#sk-container-id-11 div.sk-label label {font-family: monospace;font-weight: bold;display: inline-block;line-height: 1.2em;}#sk-container-id-11 div.sk-label-container {text-align: center;}#sk-container-id-11 div.sk-container {/* jupyter's `normalize.less` sets `[hidden] { display: none; }` but bootstrap.min.css set `[hidden] { display: none !important; }` so we also need the `!important` here to be able to override the default hidden behavior on the sphinx rendered scikit-learn.org. See: https://github.com/scikit-learn/scikit-learn/issues/21755 */display: inline-block !important;position: relative;}#sk-container-id-11 div.sk-text-repr-fallback {display: none;}</style><div id=\"sk-container-id-11\" class=\"sk-top-container\"><div class=\"sk-text-repr-fallback\"><pre>MultinomialNB()</pre><b>In a Jupyter environment, please rerun this cell to show the HTML representation or trust the notebook. <br />On GitHub, the HTML representation is unable to render, please try loading this page with nbviewer.org.</b></div><div class=\"sk-container\" hidden><div class=\"sk-item\"><div class=\"sk-estimator sk-toggleable\"><input class=\"sk-toggleable__control sk-hidden--visually\" id=\"sk-estimator-id-11\" type=\"checkbox\" checked><label for=\"sk-estimator-id-11\" class=\"sk-toggleable__label sk-toggleable__label-arrow\">MultinomialNB</label><div class=\"sk-toggleable__content\"><pre>MultinomialNB()</pre></div></div></div></div></div>"
            ]
          },
          "metadata": {},
          "execution_count": 299
        }
      ],
      "source": [
        "mnb = MultinomialNB()\n",
        "\n",
        "mnb.fit(X_train, train['label'])"
      ]
    },
    {
      "cell_type": "code",
      "execution_count": 300,
      "id": "8cb2d19e",
      "metadata": {
        "id": "8cb2d19e"
      },
      "outputs": [],
      "source": [
        "pred_y_mnb = mnb.predict(X_test)"
      ]
    },
    {
      "cell_type": "code",
      "execution_count": 301,
      "id": "4b12df4e",
      "metadata": {
        "colab": {
          "base_uri": "https://localhost:8080/"
        },
        "id": "4b12df4e",
        "outputId": "2ddbb45c-5e1a-42a5-c748-c22963fe794f"
      },
      "outputs": [
        {
          "output_type": "stream",
          "name": "stdout",
          "text": [
            "Classification Report:\n",
            "\n",
            "              precision    recall  f1-score   support\n",
            "\n",
            "           0       0.85      0.84      0.85      2005\n",
            "           1       0.84      0.85      0.85      1991\n",
            "\n",
            "    accuracy                           0.85      3996\n",
            "   macro avg       0.85      0.85      0.85      3996\n",
            "weighted avg       0.85      0.85      0.85      3996\n",
            "\n",
            "____________________________________________________________________________________________________\n",
            "Accuracy: 0.8465965965965966\n",
            "____________________________________________________________________________________________________\n",
            "F1 Score: 0.8465924175288418\n"
          ]
        }
      ],
      "source": [
        "print('Classification Report:\\n')\n",
        "print(classification_report(test['label'], pred_y_mnb))\n",
        "print('_'*100)\n",
        "print('Accuracy:',accuracy_score(test['label'], pred_y_mnb))\n",
        "print('_'*100)\n",
        "print('F1 Score:',f1_score(test['label'], pred_y_mnb, average='weighted'))"
      ]
    },
    {
      "cell_type": "markdown",
      "id": "19c3a8e8",
      "metadata": {
        "id": "19c3a8e8"
      },
      "source": [
        "<br><br><span style='font-size:30px'>Random Forest</span>"
      ]
    },
    {
      "cell_type": "code",
      "execution_count": 302,
      "id": "d01a03a9",
      "metadata": {
        "id": "d01a03a9"
      },
      "outputs": [],
      "source": [
        "from sklearn.ensemble import RandomForestClassifier"
      ]
    },
    {
      "cell_type": "code",
      "execution_count": 303,
      "id": "93094c7f",
      "metadata": {
        "colab": {
          "base_uri": "https://localhost:8080/",
          "height": 74
        },
        "id": "93094c7f",
        "outputId": "8e5841bb-0280-451c-d7aa-a9857928a87b"
      },
      "outputs": [
        {
          "output_type": "execute_result",
          "data": {
            "text/plain": [
              "RandomForestClassifier(n_jobs=-1, random_state=0)"
            ],
            "text/html": [
              "<style>#sk-container-id-12 {color: black;background-color: white;}#sk-container-id-12 pre{padding: 0;}#sk-container-id-12 div.sk-toggleable {background-color: white;}#sk-container-id-12 label.sk-toggleable__label {cursor: pointer;display: block;width: 100%;margin-bottom: 0;padding: 0.3em;box-sizing: border-box;text-align: center;}#sk-container-id-12 label.sk-toggleable__label-arrow:before {content: \"▸\";float: left;margin-right: 0.25em;color: #696969;}#sk-container-id-12 label.sk-toggleable__label-arrow:hover:before {color: black;}#sk-container-id-12 div.sk-estimator:hover label.sk-toggleable__label-arrow:before {color: black;}#sk-container-id-12 div.sk-toggleable__content {max-height: 0;max-width: 0;overflow: hidden;text-align: left;background-color: #f0f8ff;}#sk-container-id-12 div.sk-toggleable__content pre {margin: 0.2em;color: black;border-radius: 0.25em;background-color: #f0f8ff;}#sk-container-id-12 input.sk-toggleable__control:checked~div.sk-toggleable__content {max-height: 200px;max-width: 100%;overflow: auto;}#sk-container-id-12 input.sk-toggleable__control:checked~label.sk-toggleable__label-arrow:before {content: \"▾\";}#sk-container-id-12 div.sk-estimator input.sk-toggleable__control:checked~label.sk-toggleable__label {background-color: #d4ebff;}#sk-container-id-12 div.sk-label input.sk-toggleable__control:checked~label.sk-toggleable__label {background-color: #d4ebff;}#sk-container-id-12 input.sk-hidden--visually {border: 0;clip: rect(1px 1px 1px 1px);clip: rect(1px, 1px, 1px, 1px);height: 1px;margin: -1px;overflow: hidden;padding: 0;position: absolute;width: 1px;}#sk-container-id-12 div.sk-estimator {font-family: monospace;background-color: #f0f8ff;border: 1px dotted black;border-radius: 0.25em;box-sizing: border-box;margin-bottom: 0.5em;}#sk-container-id-12 div.sk-estimator:hover {background-color: #d4ebff;}#sk-container-id-12 div.sk-parallel-item::after {content: \"\";width: 100%;border-bottom: 1px solid gray;flex-grow: 1;}#sk-container-id-12 div.sk-label:hover label.sk-toggleable__label {background-color: #d4ebff;}#sk-container-id-12 div.sk-serial::before {content: \"\";position: absolute;border-left: 1px solid gray;box-sizing: border-box;top: 0;bottom: 0;left: 50%;z-index: 0;}#sk-container-id-12 div.sk-serial {display: flex;flex-direction: column;align-items: center;background-color: white;padding-right: 0.2em;padding-left: 0.2em;position: relative;}#sk-container-id-12 div.sk-item {position: relative;z-index: 1;}#sk-container-id-12 div.sk-parallel {display: flex;align-items: stretch;justify-content: center;background-color: white;position: relative;}#sk-container-id-12 div.sk-item::before, #sk-container-id-12 div.sk-parallel-item::before {content: \"\";position: absolute;border-left: 1px solid gray;box-sizing: border-box;top: 0;bottom: 0;left: 50%;z-index: -1;}#sk-container-id-12 div.sk-parallel-item {display: flex;flex-direction: column;z-index: 1;position: relative;background-color: white;}#sk-container-id-12 div.sk-parallel-item:first-child::after {align-self: flex-end;width: 50%;}#sk-container-id-12 div.sk-parallel-item:last-child::after {align-self: flex-start;width: 50%;}#sk-container-id-12 div.sk-parallel-item:only-child::after {width: 0;}#sk-container-id-12 div.sk-dashed-wrapped {border: 1px dashed gray;margin: 0 0.4em 0.5em 0.4em;box-sizing: border-box;padding-bottom: 0.4em;background-color: white;}#sk-container-id-12 div.sk-label label {font-family: monospace;font-weight: bold;display: inline-block;line-height: 1.2em;}#sk-container-id-12 div.sk-label-container {text-align: center;}#sk-container-id-12 div.sk-container {/* jupyter's `normalize.less` sets `[hidden] { display: none; }` but bootstrap.min.css set `[hidden] { display: none !important; }` so we also need the `!important` here to be able to override the default hidden behavior on the sphinx rendered scikit-learn.org. See: https://github.com/scikit-learn/scikit-learn/issues/21755 */display: inline-block !important;position: relative;}#sk-container-id-12 div.sk-text-repr-fallback {display: none;}</style><div id=\"sk-container-id-12\" class=\"sk-top-container\"><div class=\"sk-text-repr-fallback\"><pre>RandomForestClassifier(n_jobs=-1, random_state=0)</pre><b>In a Jupyter environment, please rerun this cell to show the HTML representation or trust the notebook. <br />On GitHub, the HTML representation is unable to render, please try loading this page with nbviewer.org.</b></div><div class=\"sk-container\" hidden><div class=\"sk-item\"><div class=\"sk-estimator sk-toggleable\"><input class=\"sk-toggleable__control sk-hidden--visually\" id=\"sk-estimator-id-12\" type=\"checkbox\" checked><label for=\"sk-estimator-id-12\" class=\"sk-toggleable__label sk-toggleable__label-arrow\">RandomForestClassifier</label><div class=\"sk-toggleable__content\"><pre>RandomForestClassifier(n_jobs=-1, random_state=0)</pre></div></div></div></div></div>"
            ]
          },
          "metadata": {},
          "execution_count": 303
        }
      ],
      "source": [
        "rf = RandomForestClassifier(random_state=0,n_jobs=-1)\n",
        "rf.fit(X_train, train['label'])"
      ]
    },
    {
      "cell_type": "code",
      "execution_count": 304,
      "id": "8f0b66af",
      "metadata": {
        "id": "8f0b66af"
      },
      "outputs": [],
      "source": [
        "pred_y_rf = rf.predict(X_test)"
      ]
    },
    {
      "cell_type": "code",
      "execution_count": 305,
      "id": "8f6dc7e7",
      "metadata": {
        "colab": {
          "base_uri": "https://localhost:8080/"
        },
        "id": "8f6dc7e7",
        "outputId": "b8caa9b6-188a-4b8b-8a9c-d6d5c183c592"
      },
      "outputs": [
        {
          "output_type": "stream",
          "name": "stdout",
          "text": [
            "Classification Report:\n",
            "\n",
            "              precision    recall  f1-score   support\n",
            "\n",
            "           0       0.82      0.77      0.79      2005\n",
            "           1       0.78      0.83      0.80      1991\n",
            "\n",
            "    accuracy                           0.80      3996\n",
            "   macro avg       0.80      0.80      0.80      3996\n",
            "weighted avg       0.80      0.80      0.80      3996\n",
            "\n",
            "____________________________________________________________________________________________________\n",
            "Accuracy: 0.7985485485485485\n",
            "____________________________________________________________________________________________________\n",
            "F1 Score: 0.7984126326896157\n"
          ]
        }
      ],
      "source": [
        "print('Classification Report:\\n')\n",
        "print(classification_report(test['label'], pred_y_rf))\n",
        "print('_'*100)\n",
        "print('Accuracy:',accuracy_score(test['label'], pred_y_rf))\n",
        "print('_'*100)\n",
        "print('F1 Score:',f1_score(test['label'], pred_y_rf, average='weighted'))"
      ]
    },
    {
      "cell_type": "markdown",
      "id": "40d29e41",
      "metadata": {
        "id": "40d29e41"
      },
      "source": [
        "<br><br><span style='font-size:50px'>Testing the Model</span>"
      ]
    },
    {
      "cell_type": "code",
      "execution_count": 306,
      "id": "29343ab6",
      "metadata": {
        "id": "29343ab6"
      },
      "outputs": [],
      "source": [
        "import numpy as np"
      ]
    },
    {
      "cell_type": "code",
      "execution_count": 307,
      "id": "c4f5f783",
      "metadata": {
        "id": "c4f5f783"
      },
      "outputs": [],
      "source": [
        "def test_classifier(clf,input_text):\n",
        "    input_text = removeHTML(input_text)\n",
        "    input_text = removeStopWords(input_text)\n",
        "    input_text = Lemmatizing(input_text)\n",
        "    input_text = removeNoise(input_text)\n",
        "    text_2_vec = vectorizer.transform(np.array([input_text]))\n",
        "\n",
        "    pred_y = clf.predict(text_2_vec)\n",
        "    print(pred_y)\n",
        "    if pred_y == 1:\n",
        "        return ('Positive.')\n",
        "    else:\n",
        "        return ('Negative.')"
      ]
    },
    {
      "cell_type": "code",
      "execution_count": 308,
      "id": "691044a4",
      "metadata": {
        "id": "691044a4"
      },
      "outputs": [],
      "source": [
        "#Trained Classifiers: mnb, rf"
      ]
    },
    {
      "cell_type": "code",
      "execution_count": 309,
      "id": "027fc442",
      "metadata": {
        "colab": {
          "base_uri": "https://localhost:8080/"
        },
        "id": "027fc442",
        "outputId": "20cbbff3-acad-41a8-85d5-2ff2be121c87"
      },
      "outputs": [
        {
          "output_type": "stream",
          "name": "stdout",
          "text": [
            "Text: \"Lacking coherence and depth, the 2015 \"Fantastic Four\" adaptation falters with weak\n",
            "                characterization and a disjointed plot, failing to capture the essence of its source material.\".\n",
            "[0]\n",
            "Sentiment: Negative.\n"
          ]
        }
      ],
      "source": [
        "input_text = '''Lacking coherence and depth, the 2015 \"Fantastic Four\" adaptation falters with weak\n",
        "                characterization and a disjointed plot, failing to capture the essence of its source material.'''\n",
        "\n",
        "print('Text: \"'+input_text+'\".')\n",
        "\n",
        "print('Sentiment:',test_classifier(mnb,input_text))"
      ]
    },
    {
      "cell_type": "code",
      "execution_count": 310,
      "id": "b327fb0e",
      "metadata": {
        "colab": {
          "base_uri": "https://localhost:8080/"
        },
        "id": "b327fb0e",
        "outputId": "72276fa5-07f9-4139-a8e4-327f37ce7ce7"
      },
      "outputs": [
        {
          "output_type": "stream",
          "name": "stdout",
          "text": [
            "Text: \"A groundbreaking blend of stunning visuals and thrilling storytelling,\n",
            "                \"Jurassic Park\" remains a timeless adventure that defined the blockbuster experience.\".\n",
            "[1]\n",
            "Sentiment: Positive.\n"
          ]
        }
      ],
      "source": [
        "input_text = '''A groundbreaking blend of stunning visuals and thrilling storytelling,\n",
        "                \"Jurassic Park\" remains a timeless adventure that defined the blockbuster experience.'''\n",
        "\n",
        "print('Text: \"'+input_text+'\".')\n",
        "\n",
        "print('Sentiment:',test_classifier(mnb,input_text))"
      ]
    },
    {
      "cell_type": "code",
      "execution_count": 311,
      "id": "a64c4f54",
      "metadata": {
        "colab": {
          "base_uri": "https://localhost:8080/"
        },
        "id": "a64c4f54",
        "outputId": "96576788-4b27-4c77-ce3f-8ed9d7c457cb"
      },
      "outputs": [
        {
          "output_type": "stream",
          "name": "stdout",
          "text": [
            "Text: \"An intense, gripping saga showcasing Heath Ledgers mesmerizing performance\n",
            "                as the Joker. \"The Dark Knight\" stands as a triumph in the superhero genre, blending action with profound storytelling.\".\n",
            "[1]\n",
            "Sentiment: Positive.\n"
          ]
        }
      ],
      "source": [
        "input_text = '''An intense, gripping saga showcasing Heath Ledgers mesmerizing performance\n",
        "                as the Joker. \"The Dark Knight\" stands as a triumph in the superhero genre, blending action with profound storytelling.'''\n",
        "\n",
        "print('Text: \"'+input_text+'\".')\n",
        "\n",
        "print('Sentiment:',test_classifier(rf,input_text))"
      ]
    },
    {
      "cell_type": "code",
      "execution_count": 312,
      "id": "db29ce0a",
      "metadata": {
        "colab": {
          "base_uri": "https://localhost:8080/"
        },
        "id": "db29ce0a",
        "outputId": "7dd26588-7b57-4337-f43b-26311631b84f"
      },
      "outputs": [
        {
          "output_type": "stream",
          "name": "stdout",
          "text": [
            "Text: \"A disjointed mess with flashes of potential. \"Suicide Squad\" suffers from an uneven plot, \n",
            "                underdeveloped characters, and tonal inconsistencies that undermine its promising premise.\".\n",
            "[0]\n",
            "Sentiment: Negative.\n"
          ]
        }
      ],
      "source": [
        "input_text = '''A disjointed mess with flashes of potential. \"Suicide Squad\" suffers from an uneven plot,\n",
        "                underdeveloped characters, and tonal inconsistencies that undermine its promising premise.'''\n",
        "\n",
        "print('Text: \"'+input_text+'\".')\n",
        "\n",
        "print('Sentiment:',test_classifier(rf,input_text))"
      ]
    },
    {
      "cell_type": "code",
      "execution_count": 313,
      "id": "e8948846",
      "metadata": {
        "colab": {
          "base_uri": "https://localhost:8080/"
        },
        "id": "e8948846",
        "outputId": "3027bc56-ee4b-453b-d698-d73623819725"
      },
      "outputs": [
        {
          "output_type": "stream",
          "name": "stdout",
          "text": [
            "Text: \"Revolutionary in both visuals and narrative, \"The Matrix\" is a mind-bending sci-fi classic\n",
            "                that redefined action cinema, setting new standards for storytelling and special effects.\".\n",
            "[1]\n",
            "Sentiment: Positive.\n"
          ]
        }
      ],
      "source": [
        "input_text = '''Revolutionary in both visuals and narrative, \"The Matrix\" is a mind-bending sci-fi classic\n",
        "                that redefined action cinema, setting new standards for storytelling and special effects.'''\n",
        "\n",
        "print('Text: \"'+input_text+'\".')\n",
        "\n",
        "print('Sentiment:',test_classifier(rf,input_text))"
      ]
    },
    {
      "cell_type": "code",
      "execution_count": 314,
      "id": "d8f6ab22",
      "metadata": {
        "colab": {
          "base_uri": "https://localhost:8080/"
        },
        "id": "d8f6ab22",
        "outputId": "b67240eb-33f6-4499-dc0c-d989dc0caf98"
      },
      "outputs": [
        {
          "output_type": "stream",
          "name": "stdout",
          "text": [
            "Text: \"\"Whiplash\" is a tour de force that resonates deeply. Its intense narrative, fueled by stellar performances and\n",
            "                an electrifying soundtrack, makes it an unforgettable cinematic experience.\".\n",
            "[1]\n",
            "Sentiment: Positive.\n"
          ]
        }
      ],
      "source": [
        "input_text = '''\"Whiplash\" is a tour de force that resonates deeply. Its intense narrative, fueled by stellar performances and\n",
        "                an electrifying soundtrack, makes it an unforgettable cinematic experience.'''\n",
        "\n",
        "print('Text: \"'+input_text+'\".')\n",
        "\n",
        "print('Sentiment:',test_classifier(mnb,input_text))"
      ]
    },
    {
      "cell_type": "code",
      "execution_count": 315,
      "id": "46a40858",
      "metadata": {
        "colab": {
          "base_uri": "https://localhost:8080/"
        },
        "id": "46a40858",
        "outputId": "b8569779-a1a5-40ba-c9a2-4852036abaae"
      },
      "outputs": [
        {
          "output_type": "stream",
          "name": "stdout",
          "text": [
            "Text: \"\"M. Night Shyamalan's \"The Happening\" is a misfire, featuring a disjointed plot \n",
            "                and cringe-inducing dialogue. Despite a promising premise, it falls flat, lacking both suspense and coherence.\".\n",
            "[0]\n",
            "Sentiment: Negative.\n"
          ]
        }
      ],
      "source": [
        "input_text = '''\"M. Night Shyamalan's \"The Happening\" is a misfire, featuring a disjointed plot\n",
        "                and cringe-inducing dialogue. Despite a promising premise, it falls flat, lacking both suspense and coherence.'''\n",
        "\n",
        "print('Text: \"'+input_text+'\".')\n",
        "\n",
        "print('Sentiment:',test_classifier(mnb,input_text))"
      ]
    },
    {
      "cell_type": "code",
      "execution_count": 316,
      "id": "91e78115",
      "metadata": {
        "colab": {
          "base_uri": "https://localhost:8080/"
        },
        "id": "91e78115",
        "outputId": "b3d483f3-3a58-4a2f-ae53-aa7d322e97e4"
      },
      "outputs": [
        {
          "output_type": "stream",
          "name": "stdout",
          "text": [
            "Text: \"\"it was a bad movie\".\n",
            "[0]\n",
            "Sentiment: Negative.\n"
          ]
        }
      ],
      "source": [
        "input_text = '''\"it was a bad movie'''\n",
        "\n",
        "print('Text: \"'+input_text+'\".')\n",
        "\n",
        "print('Sentiment:',test_classifier(mnb,input_text))"
      ]
    },
    {
      "cell_type": "code",
      "execution_count": 321,
      "id": "efe898a7",
      "metadata": {
        "colab": {
          "base_uri": "https://localhost:8080/"
        },
        "id": "efe898a7",
        "outputId": "0a1c5f48-f223-428b-fdc6-bfe22294ddf2"
      },
      "outputs": [
        {
          "output_type": "stream",
          "name": "stdout",
          "text": [
            "Text: \"\"sluggish pacing\".\n",
            "[0]\n",
            "Sentiment: Negative.\n"
          ]
        }
      ],
      "source": [
        "input_text = '''\"sluggish pacing'''\n",
        "\n",
        "print('Text: \"'+input_text+'\".')\n",
        "\n",
        "print('Sentiment:',test_classifier(mnb,input_text))"
      ]
    },
    {
      "cell_type": "code",
      "execution_count": 318,
      "id": "5431e18c",
      "metadata": {
        "colab": {
          "base_uri": "https://localhost:8080/"
        },
        "id": "5431e18c",
        "outputId": "dca4fd44-9c55-4308-c09c-001a43784a46"
      },
      "outputs": [
        {
          "output_type": "stream",
          "name": "stdout",
          "text": [
            "Text: \"The most interesting thing about Miryang (Secret Sunshine) is the actors. Jeon Do-yeon, as Lee Shin-ae, the main character, is a woman with a young son whose husband has died in a tragic accident, and who leaves Seoul to live in Miryang, which was his home town, with her young son. Jeon's face is very changeable. She is girlish, flirtatious, elegant, aged and sad, desperate and joyous, with it and terribly isolated by turns, and it's all in her face. The film also stars Song Kang-ho as Kim, a man who meets her when her car breaks down coming into Miryang, who happens to run a garage in town, and who follows her around all the time thereafter, despite her apparent lack of interest in his attentions. Song is the biggest star in Korea right now, renowned for his work with Park Chan-wook and Bong Joon-ho (Sympathy for Mr. Vengeance; Memories of Murder and The Host). And yet here he plays a throwaway character, almost a forgotten man. But of course he makes him interesting and curiously appealing. He is the essential ballast to keep Jeon's character from floating away.<br /><br />Lee Shin-ae is a piano teacher. She comes to the new town, which is a neutral place, a kind of poor-man's Seoul, a town \"just like anywhere else,\" as Kim says (just as he is in a way just like anyone else). Her little boy is sprightly, as little boys are, but plainly damaged and withdrawn at times too. His father used to snore, and when he misses him he lies awake, pretending to snore. He goes to school, and Shin-ae meets parents and students and shopkeepers. There is a sense of place in the film, even though the place is in a sense \"anywhere.\" People speak in the local dialect, and everyone knows everything, and Shin-ae's Seoul origin is immediately noticed. Is life really harsher here, away from the big city and its sophistication? Shin-ae seems not to realize the danger she is in.<br /><br />Something terrible happens. And Shin-ae doesn't necessarily deal with it in the best possible way. But it happens and she must face the consequences. But she can't. She goes to pieces. A perpetrator is caught, but that's no consolation. Eventually she becomes so despairing, she relents and goes to a born-again Christian meeting an acquaintance has been pressing her to attend. She finds peace and release with this. But when she decides not only to forgive the perpetrator but to go to the prison to tell him so, that experience is full of ironies and it destroys her all over again. She becomes embittered and desperate and she no longer finds solace in religion. And it gets worse than that.<br /><br />Jeon Do-yeon gives her all in this extremely demanding and protean role. Lee Chang-dong may be a very good director. If an actor of the stature of Song Kang-ho expresses enormous admiration for him, that is convincing. According to Scott Foundas of LA Weekly, Lee's first three films, Green Fish (1997), Peppermint Candy (2000) and Oasis (2002) have marked him out as \"one of the leading figures of his country's recent cinematic renaissance.\" But this is not as successful a film as those of other Korean directors whose work I've seen, such as Yong Sang-Soo, Bong Joon-ho, and the prodigiously, almost perversely gifted Park Chan-wook. It may indeed begin as Foundas says as a kind of \"Asiatic Alice Doesn't Live Here Anymore\" and then \"abruptly and without warning\" turns into \"something of a thriller, and some time after that a nearly Bressonian study in human suffering.\" But that progression not only seems random and indigestible; the film sags and loses its momentum toward the end and then simply fizzles out, with no sense of an ending. There are also weaknesses in the action. Shin-ae takes foolish chances with her son, and makes bad choices all along. If she is destined for madness like Betty in Jean-Jacques Beineix's Betty Blue, which might explain her peculiar and mistaken choices, that isn't something that is properly developed. This is an interesting film, certainly a disturbing one, but one that leaves one doubtful and dissatisfied, after putting one through an emotional wringer.<br /><br />An official selection of the New York Film Festival presented at Lincoln Center, 2007an event that has done right by Korean filmmakers in the recent past.\".\n",
            "[1]\n",
            "Sentiment: Positive.\n"
          ]
        }
      ],
      "source": [
        "input_text = '''The most interesting thing about Miryang (Secret Sunshine) is the actors. Jeon Do-yeon, as Lee Shin-ae, the main character, is a woman with a young son whose husband has died in a tragic accident, and who leaves Seoul to live in Miryang, which was his home town, with her young son. Jeon's face is very changeable. She is girlish, flirtatious, elegant, aged and sad, desperate and joyous, with it and terribly isolated by turns, and it's all in her face. The film also stars Song Kang-ho as Kim, a man who meets her when her car breaks down coming into Miryang, who happens to run a garage in town, and who follows her around all the time thereafter, despite her apparent lack of interest in his attentions. Song is the biggest star in Korea right now, renowned for his work with Park Chan-wook and Bong Joon-ho (Sympathy for Mr. Vengeance; Memories of Murder and The Host). And yet here he plays a throwaway character, almost a forgotten man. But of course he makes him interesting and curiously appealing. He is the essential ballast to keep Jeon's character from floating away.<br /><br />Lee Shin-ae is a piano teacher. She comes to the new town, which is a neutral place, a kind of poor-man's Seoul, a town \"just like anywhere else,\" as Kim says (just as he is in a way just like anyone else). Her little boy is sprightly, as little boys are, but plainly damaged and withdrawn at times too. His father used to snore, and when he misses him he lies awake, pretending to snore. He goes to school, and Shin-ae meets parents and students and shopkeepers. There is a sense of place in the film, even though the place is in a sense \"anywhere.\" People speak in the local dialect, and everyone knows everything, and Shin-ae's Seoul origin is immediately noticed. Is life really harsher here, away from the big city and its sophistication? Shin-ae seems not to realize the danger she is in.<br /><br />Something terrible happens. And Shin-ae doesn't necessarily deal with it in the best possible way. But it happens and she must face the consequences. But she can't. She goes to pieces. A perpetrator is caught, but that's no consolation. Eventually she becomes so despairing, she relents and goes to a born-again Christian meeting an acquaintance has been pressing her to attend. She finds peace and release with this. But when she decides not only to forgive the perpetrator but to go to the prison to tell him so, that experience is full of ironies and it destroys her all over again. She becomes embittered and desperate and she no longer finds solace in religion. And it gets worse than that.<br /><br />Jeon Do-yeon gives her all in this extremely demanding and protean role. Lee Chang-dong may be a very good director. If an actor of the stature of Song Kang-ho expresses enormous admiration for him, that is convincing. According to Scott Foundas of LA Weekly, Lee's first three films, Green Fish (1997), Peppermint Candy (2000) and Oasis (2002) have marked him out as \"one of the leading figures of his country's recent cinematic renaissance.\" But this is not as successful a film as those of other Korean directors whose work I've seen, such as Yong Sang-Soo, Bong Joon-ho, and the prodigiously, almost perversely gifted Park Chan-wook. It may indeed begin as Foundas says as a kind of \"Asiatic Alice Doesn't Live Here Anymore\" and then \"abruptly and without warning\" turns into \"something of a thriller, and some time after that a nearly Bressonian study in human suffering.\" But that progression not only seems random and indigestible; the film sags and loses its momentum toward the end and then simply fizzles out, with no sense of an ending. There are also weaknesses in the action. Shin-ae takes foolish chances with her son, and makes bad choices all along. If she is destined for madness like Betty in Jean-Jacques Beineix's Betty Blue, which might explain her peculiar and mistaken choices, that isn't something that is properly developed. This is an interesting film, certainly a disturbing one, but one that leaves one doubtful and dissatisfied, after putting one through an emotional wringer.<br /><br />An official selection of the New York Film Festival presented at Lincoln Center, 2007an event that has done right by Korean filmmakers in the recent past.'''\n",
        "\n",
        "print('Text: \"'+input_text+'\".')\n",
        "\n",
        "print('Sentiment:',test_classifier(mnb,input_text))"
      ]
    },
    {
      "cell_type": "code",
      "execution_count": 320,
      "id": "565cb154",
      "metadata": {
        "colab": {
          "base_uri": "https://localhost:8080/"
        },
        "id": "565cb154",
        "outputId": "58ca5118-df61-421c-ee7c-03ebd410ed67"
      },
      "outputs": [
        {
          "output_type": "stream",
          "name": "stdout",
          "text": [
            "Text: \"\"Despite its stunning visual effects and captivating cinematography, the movie left me feeling conflicted. While the storyline was intriguing and kept me engaged until the end, there were moments where the pacing felt sluggish, and certain character developments seemed lacking. However, the stellar performances from the cast, particularly the lead actor, added depth to the narrative, leaving me pondering its themes long after the credits rolled. Overall, it's a film that's sure to spark debate and interpretation, making it a must-watch for cinephiles seeking a thought-provoking experience\".\n",
            "[1]\n",
            "Sentiment: Positive.\n"
          ]
        }
      ],
      "source": [
        "input_text = '''\"Despite its stunning visual effects and captivating cinematography, the movie left me feeling conflicted. While the storyline was intriguing and kept me engaged until the end, there were moments where the pacing felt sluggish, and certain character developments seemed lacking. However, the stellar performances from the cast, particularly the lead actor, added depth to the narrative, leaving me pondering its themes long after the credits rolled. Overall, it's a film that's sure to spark debate and interpretation, making it a must-watch for cinephiles seeking a thought-provoking experience'''\n",
        "\n",
        "print('Text: \"'+input_text+'\".')\n",
        "\n",
        "print('Sentiment:',test_classifier(mnb,input_text))"
      ]
    }
  ],
  "metadata": {
    "kernelspec": {
      "display_name": "Python 3 (ipykernel)",
      "language": "python",
      "name": "python3"
    },
    "language_info": {
      "codemirror_mode": {
        "name": "ipython",
        "version": 3
      },
      "file_extension": ".py",
      "mimetype": "text/x-python",
      "name": "python",
      "nbconvert_exporter": "python",
      "pygments_lexer": "ipython3",
      "version": "3.11.4"
    },
    "colab": {
      "provenance": [],
      "include_colab_link": true
    }
  },
  "nbformat": 4,
  "nbformat_minor": 5
}
